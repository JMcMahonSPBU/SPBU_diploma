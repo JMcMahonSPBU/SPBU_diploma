{
 "cells": [
  {
   "cell_type": "markdown",
   "id": "30f188b1-1256-462a-a1d4-1de2ba4aac80",
   "metadata": {},
   "source": [
    "# Spark processing"
   ]
  },
  {
   "cell_type": "markdown",
   "id": "fed9ee60-5a17-4547-bcab-959751b81a99",
   "metadata": {},
   "source": [
    "## 1. Libraries and Spark setup"
   ]
  },
  {
   "cell_type": "code",
   "execution_count": 1,
   "id": "2a78ba91-a8ad-43c3-806e-5fc23c39a35b",
   "metadata": {
    "tags": []
   },
   "outputs": [],
   "source": [
    "import os\n",
    "import sys\n",
    "import json\n",
    "import numpy as np\n",
    "import pandas as pd\n",
    "import matplotlib.pyplot as plt\n",
    "pd.set_option('display.max_columns', None)\n",
    "pd.set_option('display.max_rows', None)"
   ]
  },
  {
   "cell_type": "code",
   "execution_count": 2,
   "id": "897724d7-5ef5-4ff1-9b8e-a33ae8457ca2",
   "metadata": {
    "tags": []
   },
   "outputs": [],
   "source": [
    "from pyspark import SparkContext, SparkConf\n",
    "from pyspark.sql import SparkSession\n",
    "from pyspark.sql import functions as F\n",
    "from pyspark.sql.types import *\n",
    "from pyspark.sql.window import Window"
   ]
  },
  {
   "cell_type": "code",
   "execution_count": null,
   "id": "2f214c4d-2142-4557-814f-4fb22a0370d4",
   "metadata": {
    "tags": []
   },
   "outputs": [],
   "source": [
    "print('user:', os.environ['JUPYTERHUB_SERVICE_PREFIX'])\n",
    "\n",
    "def uiWebUrl(self):\n",
    "    from urllib.parse import urlparse\n",
    "    web_url = self._jsc.sc().uiWebUrl().get()\n",
    "    port = urlparse(web_url).port\n",
    "    return '{}proxy/{}/jobs/'.format(os.environ['JUPYTERHUB_SERVICE_PREFIX'], port)\n",
    "\n",
    "SparkContext.uiWebUrl = property(uiWebUrl)\n",
    "\n",
    "conf = SparkConf()\n",
    "conf.set('spark.master', 'local[*]')\n",
    "conf.set('spark.driver.memory', '40G')\n",
    "conf.set('spark.driver.maxResultSize', '40G')\n",
    "sc = SparkContext(conf=conf)\n",
    "spark = SparkSession(sc)\n",
    "spark"
   ]
  },
  {
   "cell_type": "code",
   "execution_count": 4,
   "id": "4fd2c2d3-3816-423f-b760-a70937e6b478",
   "metadata": {
    "tags": []
   },
   "outputs": [],
   "source": [
    "def access_data(file_path):\n",
    "    with open(file_path) as file:\n",
    "        access_data = json.load(file)\n",
    "    return access_data\n",
    "\n",
    "access_s3_data = access_data('.access_jhub_data')"
   ]
  },
  {
   "cell_type": "code",
   "execution_count": 5,
   "id": "05eb3b93-0d2b-467f-9ef8-20dcadc89256",
   "metadata": {
    "tags": []
   },
   "outputs": [],
   "source": [
    "spark._jsc.hadoopConfiguration().set('fs.s3a.access.key', access_s3_data['aws_access_key_id'])\n",
    "spark._jsc.hadoopConfiguration().set('fs.s3a.secret.key', access_s3_data['aws_secret_access_key'])\n",
    "spark._jsc.hadoopConfiguration().set('fs.s3a.impl','org.apache.hadoop.fs.s3a.S3AFileSystem')\n",
    "spark._jsc.hadoopConfiguration().set('fs.s3a.multipart.size', '104857600')\n",
    "spark._jsc.hadoopConfiguration().set('fs.s3a.block.size', '33554432')\n",
    "spark._jsc.hadoopConfiguration().set('fs.s3a.threads.max', '256')\n",
    "spark._jsc.hadoopConfiguration().set('fs.s3a.endpoint', 'http://storage.yandexcloud.net')\n",
    "spark._jsc.hadoopConfiguration().set('fs.s3a.aws.credentials.provider', \n",
    "                                     'org.apache.hadoop.fs.s3a.SimpleAWSCredentialsProvider')"
   ]
  },
  {
   "cell_type": "markdown",
   "id": "40e8ba75-8dcf-418c-9019-dae245606403",
   "metadata": {},
   "source": [
    "## 2. Data load"
   ]
  },
  {
   "cell_type": "code",
   "execution_count": 6,
   "id": "d42a91b6-e7ab-4c0a-bf21-3077769d87cf",
   "metadata": {
    "tags": []
   },
   "outputs": [],
   "source": [
    "BUCKET = 'pvc-84ea79a0-dc20-4a2d-86ab-f83c1f8d4a7b'"
   ]
  },
  {
   "cell_type": "code",
   "execution_count": 7,
   "id": "ec139b21-815a-4680-a53e-c43a5e24d355",
   "metadata": {
    "tags": []
   },
   "outputs": [],
   "source": [
    "files_path = 'data/events'\n",
    "#files_mask = f'{files_path}/*.csv' # all the data\n",
    "files_mask = f'{files_path}/data_2024-05-*.csv' # test part of data\n",
    "sdf = spark.read.option('escape','\"').csv(f's3a://{BUCKET}/{files_mask}', header=True)"
   ]
  },
  {
   "cell_type": "code",
   "execution_count": 8,
   "id": "c0e68a49-05cb-480d-9b16-d3cceb807c00",
   "metadata": {
    "tags": []
   },
   "outputs": [
    {
     "name": "stdout",
     "output_type": "stream",
     "text": [
      "root\n",
      " |-- event_datetime: string (nullable = true)\n",
      " |-- event_json: string (nullable = true)\n",
      " |-- event_name: string (nullable = true)\n",
      " |-- event_receive_datetime: string (nullable = true)\n",
      " |-- event_receive_timestamp: string (nullable = true)\n",
      " |-- event_timestamp: string (nullable = true)\n",
      " |-- session_id: string (nullable = true)\n",
      " |-- installation_id: string (nullable = true)\n",
      " |-- appmetrica_device_id: string (nullable = true)\n",
      " |-- city: string (nullable = true)\n",
      " |-- connection_type: string (nullable = true)\n",
      " |-- country_iso_code: string (nullable = true)\n",
      " |-- device_ipv6: string (nullable = true)\n",
      " |-- device_locale: string (nullable = true)\n",
      " |-- device_manufacturer: string (nullable = true)\n",
      " |-- device_model: string (nullable = true)\n",
      " |-- device_type: string (nullable = true)\n",
      " |-- google_aid: string (nullable = true)\n",
      " |-- ios_ifa: string (nullable = true)\n",
      " |-- ios_ifv: string (nullable = true)\n",
      " |-- mcc: string (nullable = true)\n",
      " |-- mnc: string (nullable = true)\n",
      " |-- operator_name: string (nullable = true)\n",
      " |-- original_device_model: string (nullable = true)\n",
      " |-- os_name: string (nullable = true)\n",
      " |-- os_version: string (nullable = true)\n",
      " |-- profile_id: string (nullable = true)\n",
      " |-- windows_aid: string (nullable = true)\n",
      " |-- app_build_number: string (nullable = true)\n",
      " |-- app_package_name: string (nullable = true)\n",
      " |-- app_version_name: string (nullable = true)\n",
      " |-- application_id: string (nullable = true)\n",
      "\n"
     ]
    }
   ],
   "source": [
    "sdf.printSchema()"
   ]
  },
  {
   "cell_type": "code",
   "execution_count": 9,
   "id": "76bd70e0-9a25-4e5a-8b5a-276461c94a91",
   "metadata": {
    "tags": []
   },
   "outputs": [],
   "source": [
    "sdf = sdf.withColumn(\"event_datetime\", F.to_timestamp(\"event_datetime\"))"
   ]
  },
  {
   "cell_type": "code",
   "execution_count": 10,
   "id": "d414bcff-6a4a-4b58-b987-4e183672c979",
   "metadata": {
    "tags": []
   },
   "outputs": [
    {
     "data": {
      "text/plain": [
       "46745893"
      ]
     },
     "execution_count": 10,
     "metadata": {},
     "output_type": "execute_result"
    }
   ],
   "source": [
    "sdf.count()"
   ]
  },
  {
   "cell_type": "code",
   "execution_count": null,
   "id": "0d80fa0d-8fcf-4e4c-b8cd-0b7527992ccb",
   "metadata": {
    "tags": []
   },
   "outputs": [],
   "source": [
    "sdf.limit(5).toPandas()"
   ]
  },
  {
   "cell_type": "markdown",
   "id": "52495431-e57c-4960-a4fb-067108af50a4",
   "metadata": {},
   "source": [
    "## 3. EDA"
   ]
  },
  {
   "cell_type": "markdown",
   "id": "12ad3c4c-17d5-4268-a20c-53d97095282e",
   "metadata": {
    "tags": []
   },
   "source": [
    "### 3.1. Users and devices"
   ]
  },
  {
   "cell_type": "code",
   "execution_count": 12,
   "id": "15fa862e-ec42-427c-ab61-16547429071c",
   "metadata": {
    "tags": []
   },
   "outputs": [],
   "source": [
    "import matplotlib.pyplot as plt\n",
    "import seaborn as sns"
   ]
  },
  {
   "cell_type": "code",
   "execution_count": 13,
   "id": "8d7ec5ce-d2ae-4b03-8f16-7940f65a6b3e",
   "metadata": {
    "tags": []
   },
   "outputs": [
    {
     "name": "stdout",
     "output_type": "stream",
     "text": [
      "Columns overview\n"
     ]
    },
    {
     "data": {
      "text/html": [
       "<div>\n",
       "<style scoped>\n",
       "    .dataframe tbody tr th:only-of-type {\n",
       "        vertical-align: middle;\n",
       "    }\n",
       "\n",
       "    .dataframe tbody tr th {\n",
       "        vertical-align: top;\n",
       "    }\n",
       "\n",
       "    .dataframe thead th {\n",
       "        text-align: right;\n",
       "    }\n",
       "</style>\n",
       "<table border=\"1\" class=\"dataframe\">\n",
       "  <thead>\n",
       "    <tr style=\"text-align: right;\">\n",
       "      <th></th>\n",
       "      <th>Column Name</th>\n",
       "      <th>Data type</th>\n",
       "    </tr>\n",
       "  </thead>\n",
       "  <tbody>\n",
       "    <tr>\n",
       "      <th>0</th>\n",
       "      <td>event_datetime</td>\n",
       "      <td>timestamp</td>\n",
       "    </tr>\n",
       "    <tr>\n",
       "      <th>1</th>\n",
       "      <td>event_json</td>\n",
       "      <td>string</td>\n",
       "    </tr>\n",
       "    <tr>\n",
       "      <th>2</th>\n",
       "      <td>event_name</td>\n",
       "      <td>string</td>\n",
       "    </tr>\n",
       "    <tr>\n",
       "      <th>3</th>\n",
       "      <td>event_receive_datetime</td>\n",
       "      <td>string</td>\n",
       "    </tr>\n",
       "    <tr>\n",
       "      <th>4</th>\n",
       "      <td>event_receive_timestamp</td>\n",
       "      <td>string</td>\n",
       "    </tr>\n",
       "    <tr>\n",
       "      <th>5</th>\n",
       "      <td>event_timestamp</td>\n",
       "      <td>string</td>\n",
       "    </tr>\n",
       "    <tr>\n",
       "      <th>6</th>\n",
       "      <td>session_id</td>\n",
       "      <td>string</td>\n",
       "    </tr>\n",
       "    <tr>\n",
       "      <th>7</th>\n",
       "      <td>installation_id</td>\n",
       "      <td>string</td>\n",
       "    </tr>\n",
       "    <tr>\n",
       "      <th>8</th>\n",
       "      <td>appmetrica_device_id</td>\n",
       "      <td>string</td>\n",
       "    </tr>\n",
       "    <tr>\n",
       "      <th>9</th>\n",
       "      <td>city</td>\n",
       "      <td>string</td>\n",
       "    </tr>\n",
       "    <tr>\n",
       "      <th>10</th>\n",
       "      <td>connection_type</td>\n",
       "      <td>string</td>\n",
       "    </tr>\n",
       "    <tr>\n",
       "      <th>11</th>\n",
       "      <td>country_iso_code</td>\n",
       "      <td>string</td>\n",
       "    </tr>\n",
       "    <tr>\n",
       "      <th>12</th>\n",
       "      <td>device_ipv6</td>\n",
       "      <td>string</td>\n",
       "    </tr>\n",
       "    <tr>\n",
       "      <th>13</th>\n",
       "      <td>device_locale</td>\n",
       "      <td>string</td>\n",
       "    </tr>\n",
       "    <tr>\n",
       "      <th>14</th>\n",
       "      <td>device_manufacturer</td>\n",
       "      <td>string</td>\n",
       "    </tr>\n",
       "    <tr>\n",
       "      <th>15</th>\n",
       "      <td>device_model</td>\n",
       "      <td>string</td>\n",
       "    </tr>\n",
       "    <tr>\n",
       "      <th>16</th>\n",
       "      <td>device_type</td>\n",
       "      <td>string</td>\n",
       "    </tr>\n",
       "    <tr>\n",
       "      <th>17</th>\n",
       "      <td>google_aid</td>\n",
       "      <td>string</td>\n",
       "    </tr>\n",
       "    <tr>\n",
       "      <th>18</th>\n",
       "      <td>ios_ifa</td>\n",
       "      <td>string</td>\n",
       "    </tr>\n",
       "    <tr>\n",
       "      <th>19</th>\n",
       "      <td>ios_ifv</td>\n",
       "      <td>string</td>\n",
       "    </tr>\n",
       "    <tr>\n",
       "      <th>20</th>\n",
       "      <td>mcc</td>\n",
       "      <td>string</td>\n",
       "    </tr>\n",
       "    <tr>\n",
       "      <th>21</th>\n",
       "      <td>mnc</td>\n",
       "      <td>string</td>\n",
       "    </tr>\n",
       "    <tr>\n",
       "      <th>22</th>\n",
       "      <td>operator_name</td>\n",
       "      <td>string</td>\n",
       "    </tr>\n",
       "    <tr>\n",
       "      <th>23</th>\n",
       "      <td>original_device_model</td>\n",
       "      <td>string</td>\n",
       "    </tr>\n",
       "    <tr>\n",
       "      <th>24</th>\n",
       "      <td>os_name</td>\n",
       "      <td>string</td>\n",
       "    </tr>\n",
       "    <tr>\n",
       "      <th>25</th>\n",
       "      <td>os_version</td>\n",
       "      <td>string</td>\n",
       "    </tr>\n",
       "    <tr>\n",
       "      <th>26</th>\n",
       "      <td>profile_id</td>\n",
       "      <td>string</td>\n",
       "    </tr>\n",
       "    <tr>\n",
       "      <th>27</th>\n",
       "      <td>windows_aid</td>\n",
       "      <td>string</td>\n",
       "    </tr>\n",
       "    <tr>\n",
       "      <th>28</th>\n",
       "      <td>app_build_number</td>\n",
       "      <td>string</td>\n",
       "    </tr>\n",
       "    <tr>\n",
       "      <th>29</th>\n",
       "      <td>app_package_name</td>\n",
       "      <td>string</td>\n",
       "    </tr>\n",
       "    <tr>\n",
       "      <th>30</th>\n",
       "      <td>app_version_name</td>\n",
       "      <td>string</td>\n",
       "    </tr>\n",
       "    <tr>\n",
       "      <th>31</th>\n",
       "      <td>application_id</td>\n",
       "      <td>string</td>\n",
       "    </tr>\n",
       "  </tbody>\n",
       "</table>\n",
       "</div>"
      ],
      "text/plain": [
       "                Column Name  Data type\n",
       "0            event_datetime  timestamp\n",
       "1                event_json     string\n",
       "2                event_name     string\n",
       "3    event_receive_datetime     string\n",
       "4   event_receive_timestamp     string\n",
       "5           event_timestamp     string\n",
       "6                session_id     string\n",
       "7           installation_id     string\n",
       "8      appmetrica_device_id     string\n",
       "9                      city     string\n",
       "10          connection_type     string\n",
       "11         country_iso_code     string\n",
       "12              device_ipv6     string\n",
       "13            device_locale     string\n",
       "14      device_manufacturer     string\n",
       "15             device_model     string\n",
       "16              device_type     string\n",
       "17               google_aid     string\n",
       "18                  ios_ifa     string\n",
       "19                  ios_ifv     string\n",
       "20                      mcc     string\n",
       "21                      mnc     string\n",
       "22            operator_name     string\n",
       "23    original_device_model     string\n",
       "24                  os_name     string\n",
       "25               os_version     string\n",
       "26               profile_id     string\n",
       "27              windows_aid     string\n",
       "28         app_build_number     string\n",
       "29         app_package_name     string\n",
       "30         app_version_name     string\n",
       "31           application_id     string"
      ]
     },
     "execution_count": 13,
     "metadata": {},
     "output_type": "execute_result"
    }
   ],
   "source": [
    "print('Columns overview')\n",
    "pd.DataFrame(sdf.dtypes, columns = ['Column Name','Data type'])"
   ]
  },
  {
   "cell_type": "code",
   "execution_count": null,
   "id": "43204940-d4e6-4f98-a3a8-f3a69fdd4d11",
   "metadata": {
    "tags": []
   },
   "outputs": [],
   "source": [
    "# Cast event_name to lower so that its easier to use filters \n",
    "sdf = sdf.withColumn('event_name_lower', F.lower(F.col('event_name')))\n",
    "\n",
    "# Create a new column with '/' replaced by ' ' in 'event_name'\n",
    "sdf = sdf.withColumn('event_name_modified', F.regexp_replace('event_name_lower', '/', ' '))\n",
    "\n",
    "sdf.limit(5).toPandas()\n",
    "\n"
   ]
  },
  {
   "cell_type": "markdown",
   "id": "b7fdba36-d3b5-4bf5-8d6d-72d618bf4df0",
   "metadata": {},
   "source": [
    "## Analysis by city"
   ]
  },
  {
   "cell_type": "code",
   "execution_count": 15,
   "id": "c68f26e3-21f3-4565-9a94-d42337d11e4a",
   "metadata": {
    "tags": []
   },
   "outputs": [
    {
     "name": "stdout",
     "output_type": "stream",
     "text": [
      "+------------------+-------+\n",
      "|              city|  count|\n",
      "+------------------+-------+\n",
      "|         Volgograd|  96085|\n",
      "|          Voronezh| 143938|\n",
      "|           Bryansk|  59313|\n",
      "|        Sevastopol|  68385|\n",
      "|              Omsk|  94503|\n",
      "|          Belgorod|  48614|\n",
      "|       Makhachkala| 219902|\n",
      "|         Togliatti|  41947|\n",
      "|        Domodedovo|  14862|\n",
      "|           Lipetsk|  45619|\n",
      "|Naberezhnie Chelny|  26971|\n",
      "|           Labinsk|    276|\n",
      "|             Istra|  21189|\n",
      "|            Moscow|6126081|\n",
      "|          Kaspiysk|  19183|\n",
      "|         Stavropol| 374077|\n",
      "|     Yekaterinburg| 579764|\n",
      "|            Krymsk|   3638|\n",
      "|            Berlin|   8318|\n",
      "|         Krasnodar| 833043|\n",
      "+------------------+-------+\n",
      "only showing top 20 rows\n",
      "\n"
     ]
    }
   ],
   "source": [
    "sdf.groupBy('city').count().show()"
   ]
  },
  {
   "cell_type": "code",
   "execution_count": 16,
   "id": "08a08861-d8ba-4b79-a2ca-8eb55e59a378",
   "metadata": {
    "tags": []
   },
   "outputs": [
    {
     "name": "stdout",
     "output_type": "stream",
     "text": [
      "1767\n"
     ]
    }
   ],
   "source": [
    "# Предполагается, что df - это DataFrame, содержащий столбец 'city'.\n",
    "unique_cities = sdf.select(\"city\").distinct().count()\n",
    "print(unique_cities)\n"
   ]
  },
  {
   "cell_type": "code",
   "execution_count": 38,
   "id": "e1403799-4c1d-42ce-9351-d2d73ce8cded",
   "metadata": {
    "tags": []
   },
   "outputs": [
    {
     "name": "stdout",
     "output_type": "stream",
     "text": [
      "1102\n"
     ]
    }
   ],
   "source": [
    "# Предполагается, что df - это DataFrame, содержащий столбец 'city'.\n",
    "unique_cities = sdf_with_user_payments.select(\"city\").distinct().count()\n",
    "print(unique_cities)\n"
   ]
  },
  {
   "cell_type": "code",
   "execution_count": 17,
   "id": "8947b622-7aa3-47d9-a867-2bfa674a08b6",
   "metadata": {
    "tags": []
   },
   "outputs": [
    {
     "name": "stdout",
     "output_type": "stream",
     "text": [
      "+---------+-----------------+\n",
      "|     city|count(profile_id)|\n",
      "+---------+-----------------+\n",
      "|Volgograd|             3064|\n",
      "|    Topki|               25|\n",
      "| Horlivka|               16|\n",
      "|    Mainz|               33|\n",
      "|   Svetly|               14|\n",
      "|  Hanover|                1|\n",
      "|  Bryansk|             2168|\n",
      "| Voronezh|             4381|\n",
      "|     Ruza|              120|\n",
      "|   Volhov|               38|\n",
      "+---------+-----------------+\n",
      "only showing top 10 rows\n",
      "\n"
     ]
    }
   ],
   "source": [
    "import pyspark.sql.functions as F\n",
    "\n",
    "sdf.groupBy(\"city\").agg(F.countDistinct(\"profile_id\")).show(10)\n"
   ]
  },
  {
   "cell_type": "code",
   "execution_count": 18,
   "id": "509fb95e-71eb-4c3c-9274-8fd0f42ce3d2",
   "metadata": {
    "tags": []
   },
   "outputs": [
    {
     "name": "stdout",
     "output_type": "stream",
     "text": [
      "+------------+-----+\n",
      "|        city|count|\n",
      "+------------+-----+\n",
      "|       Kinel|    0|\n",
      "|     Chifeng|    0|\n",
      "|    Kambarka|    0|\n",
      "|     Netanya|    0|\n",
      "|        Tara|    0|\n",
      "|    Salzburg|    0|\n",
      "|     Jiamusi|    0|\n",
      "|  Nonthaburi|    0|\n",
      "|    Kuvandik|    0|\n",
      "| Alessandria|    0|\n",
      "|   Khyrdalan|    0|\n",
      "|Nizhny Lomov|    0|\n",
      "+------------+-----+\n",
      "only showing top 12 rows\n",
      "\n"
     ]
    }
   ],
   "source": [
    "import pyspark.sql.functions as F\n",
    "sdf.groupBy(\"city\").agg(F.countDistinct(\"profile_id\").alias(\"count\")).orderBy(F.col(\"count\").asc()).show(12)"
   ]
  },
  {
   "cell_type": "code",
   "execution_count": 18,
   "id": "cb0f9675-06bc-40e0-854d-3cd607a60b21",
   "metadata": {
    "tags": []
   },
   "outputs": [
    {
     "data": {
      "text/html": [
       "<div>\n",
       "<style scoped>\n",
       "    .dataframe tbody tr th:only-of-type {\n",
       "        vertical-align: middle;\n",
       "    }\n",
       "\n",
       "    .dataframe tbody tr th {\n",
       "        vertical-align: top;\n",
       "    }\n",
       "\n",
       "    .dataframe thead th {\n",
       "        text-align: right;\n",
       "    }\n",
       "</style>\n",
       "<table border=\"1\" class=\"dataframe\">\n",
       "  <thead>\n",
       "    <tr style=\"text-align: right;\">\n",
       "      <th></th>\n",
       "      <th>city</th>\n",
       "      <th>count</th>\n",
       "    </tr>\n",
       "  </thead>\n",
       "  <tbody>\n",
       "    <tr>\n",
       "      <th>0</th>\n",
       "      <td>None</td>\n",
       "      <td>531050</td>\n",
       "    </tr>\n",
       "    <tr>\n",
       "      <th>1</th>\n",
       "      <td>Moscow</td>\n",
       "      <td>164331</td>\n",
       "    </tr>\n",
       "    <tr>\n",
       "      <th>2</th>\n",
       "      <td>Saint Petersburg</td>\n",
       "      <td>37197</td>\n",
       "    </tr>\n",
       "    <tr>\n",
       "      <th>3</th>\n",
       "      <td>Krasnodar</td>\n",
       "      <td>25346</td>\n",
       "    </tr>\n",
       "    <tr>\n",
       "      <th>4</th>\n",
       "      <td>Yekaterinburg</td>\n",
       "      <td>19497</td>\n",
       "    </tr>\n",
       "  </tbody>\n",
       "</table>\n",
       "</div>"
      ],
      "text/plain": [
       "               city   count\n",
       "0              None  531050\n",
       "1            Moscow  164331\n",
       "2  Saint Petersburg   37197\n",
       "3         Krasnodar   25346\n",
       "4     Yekaterinburg   19497"
      ]
     },
     "execution_count": 18,
     "metadata": {},
     "output_type": "execute_result"
    }
   ],
   "source": [
    "import pyspark.sql.functions as F\n",
    "sdf.groupBy(\"city\").agg(F.countDistinct(\"profile_id\").alias(\"count\")).orderBy(F.col(\"count\").desc()).limit(5).toPandas()"
   ]
  },
  {
   "cell_type": "code",
   "execution_count": 19,
   "id": "bf5386f8-9786-47cd-8555-f468e086a88f",
   "metadata": {
    "tags": []
   },
   "outputs": [
    {
     "data": {
      "image/png": "[encoded data removed]",
      "text/plain": [
       "<Figure size 432x288 with 1 Axes>"
      ]
     },
     "metadata": {
      "needs_background": "light"
     },
     "output_type": "display_data"
    }
   ],
   "source": [
    "# Create a bar chart of the unique profile counts\n",
    "sdf.groupBy(\"city\").agg(F.countDistinct(\"profile_id\").alias(\"unique_profiles\")).sort(\"unique_profiles\", ascending=False).limit(10).toPandas().plot.bar(x=\"city\", y=\"unique_profiles\")\n",
    "plt.xlabel(\"City\")\n",
    "plt.ylabel(\"Number of Unique Profiles\")\n",
    "plt.title(\"Distribution of Unique Profiles by City\")\n",
    "plt.xticks(rotation=45)\n",
    "plt.tight_layout()\n",
    "plt.show()"
   ]
  },
  {
   "cell_type": "code",
   "execution_count": 44,
   "id": "6df6c4e4-5457-4dd5-98a2-6f0059abc34b",
   "metadata": {
    "tags": []
   },
   "outputs": [
    {
     "data": {
      "image/png": "[encoded data removed]",
      "text/plain": [
       "<Figure size 432x288 with 1 Axes>"
      ]
     },
     "metadata": {
      "needs_background": "light"
     },
     "output_type": "display_data"
    }
   ],
   "source": [
    "# Create a bar chart of the unique profile counts\n",
    "sdf_with_user_payments.groupBy(\"city\").agg(F.countDistinct(\"profile_id\").alias(\"unique_profiles\")).sort(\"unique_profiles\", ascending=False).limit(10).toPandas().plot.bar(x=\"city\", y=\"unique_profiles\")\n",
    "plt.xlabel(\"City\")\n",
    "plt.ylabel(\"Number of Unique Profiles\")\n",
    "plt.title(\"Distribution of Unique Profiles by City\")\n",
    "plt.xticks(rotation=45)\n",
    "plt.tight_layout()\n",
    "plt.show()"
   ]
  },
  {
   "cell_type": "code",
   "execution_count": 20,
   "id": "63a61ad7-b700-49a0-940f-c8e524b3df98",
   "metadata": {
    "tags": []
   },
   "outputs": [
    {
     "data": {
      "text/html": [
       "<div>\n",
       "<style scoped>\n",
       "    .dataframe tbody tr th:only-of-type {\n",
       "        vertical-align: middle;\n",
       "    }\n",
       "\n",
       "    .dataframe tbody tr th {\n",
       "        vertical-align: top;\n",
       "    }\n",
       "\n",
       "    .dataframe thead th {\n",
       "        text-align: right;\n",
       "    }\n",
       "</style>\n",
       "<table border=\"1\" class=\"dataframe\">\n",
       "  <thead>\n",
       "    <tr style=\"text-align: right;\">\n",
       "      <th></th>\n",
       "      <th>city</th>\n",
       "      <th>count</th>\n",
       "    </tr>\n",
       "  </thead>\n",
       "  <tbody>\n",
       "    <tr>\n",
       "      <th>0</th>\n",
       "      <td>None</td>\n",
       "      <td>531050</td>\n",
       "    </tr>\n",
       "    <tr>\n",
       "      <th>1</th>\n",
       "      <td>Moscow</td>\n",
       "      <td>164331</td>\n",
       "    </tr>\n",
       "    <tr>\n",
       "      <th>2</th>\n",
       "      <td>Saint Petersburg</td>\n",
       "      <td>37197</td>\n",
       "    </tr>\n",
       "    <tr>\n",
       "      <th>3</th>\n",
       "      <td>Krasnodar</td>\n",
       "      <td>25346</td>\n",
       "    </tr>\n",
       "    <tr>\n",
       "      <th>4</th>\n",
       "      <td>Yekaterinburg</td>\n",
       "      <td>19497</td>\n",
       "    </tr>\n",
       "    <tr>\n",
       "      <th>5</th>\n",
       "      <td>Penza</td>\n",
       "      <td>16157</td>\n",
       "    </tr>\n",
       "    <tr>\n",
       "      <th>6</th>\n",
       "      <td>Nizhny Novgorod</td>\n",
       "      <td>12853</td>\n",
       "    </tr>\n",
       "    <tr>\n",
       "      <th>7</th>\n",
       "      <td>Samara</td>\n",
       "      <td>10380</td>\n",
       "    </tr>\n",
       "    <tr>\n",
       "      <th>8</th>\n",
       "      <td>Rostov-na-Donu</td>\n",
       "      <td>9529</td>\n",
       "    </tr>\n",
       "    <tr>\n",
       "      <th>9</th>\n",
       "      <td>Stavropol</td>\n",
       "      <td>9524</td>\n",
       "    </tr>\n",
       "  </tbody>\n",
       "</table>\n",
       "</div>"
      ],
      "text/plain": [
       "               city   count\n",
       "0              None  531050\n",
       "1            Moscow  164331\n",
       "2  Saint Petersburg   37197\n",
       "3         Krasnodar   25346\n",
       "4     Yekaterinburg   19497\n",
       "5             Penza   16157\n",
       "6   Nizhny Novgorod   12853\n",
       "7            Samara   10380\n",
       "8    Rostov-na-Donu    9529\n",
       "9         Stavropol    9524"
      ]
     },
     "execution_count": 20,
     "metadata": {},
     "output_type": "execute_result"
    }
   ],
   "source": [
    "import pyspark.sql.functions as F\n",
    "sdf.groupBy(\"city\").agg(F.countDistinct(\"profile_id\").alias(\"count\")).orderBy(F.col(\"count\").desc()).limit(10).toPandas()"
   ]
  },
  {
   "cell_type": "code",
   "execution_count": 45,
   "id": "ba6fbfa8-12e7-4308-8ae4-98634a53f4ef",
   "metadata": {
    "tags": []
   },
   "outputs": [
    {
     "data": {
      "text/html": [
       "<div>\n",
       "<style scoped>\n",
       "    .dataframe tbody tr th:only-of-type {\n",
       "        vertical-align: middle;\n",
       "    }\n",
       "\n",
       "    .dataframe tbody tr th {\n",
       "        vertical-align: top;\n",
       "    }\n",
       "\n",
       "    .dataframe thead th {\n",
       "        text-align: right;\n",
       "    }\n",
       "</style>\n",
       "<table border=\"1\" class=\"dataframe\">\n",
       "  <thead>\n",
       "    <tr style=\"text-align: right;\">\n",
       "      <th></th>\n",
       "      <th>city</th>\n",
       "      <th>count</th>\n",
       "    </tr>\n",
       "  </thead>\n",
       "  <tbody>\n",
       "    <tr>\n",
       "      <th>0</th>\n",
       "      <td>None</td>\n",
       "      <td>11215</td>\n",
       "    </tr>\n",
       "    <tr>\n",
       "      <th>1</th>\n",
       "      <td>Moscow</td>\n",
       "      <td>217</td>\n",
       "    </tr>\n",
       "    <tr>\n",
       "      <th>2</th>\n",
       "      <td>Saint Petersburg</td>\n",
       "      <td>56</td>\n",
       "    </tr>\n",
       "    <tr>\n",
       "      <th>3</th>\n",
       "      <td>Krasnodar</td>\n",
       "      <td>46</td>\n",
       "    </tr>\n",
       "    <tr>\n",
       "      <th>4</th>\n",
       "      <td>Stavropol</td>\n",
       "      <td>15</td>\n",
       "    </tr>\n",
       "    <tr>\n",
       "      <th>5</th>\n",
       "      <td>Samara</td>\n",
       "      <td>14</td>\n",
       "    </tr>\n",
       "    <tr>\n",
       "      <th>6</th>\n",
       "      <td>Yekaterinburg</td>\n",
       "      <td>14</td>\n",
       "    </tr>\n",
       "    <tr>\n",
       "      <th>7</th>\n",
       "      <td>Rostov-na-Donu</td>\n",
       "      <td>12</td>\n",
       "    </tr>\n",
       "    <tr>\n",
       "      <th>8</th>\n",
       "      <td>Makhachkala</td>\n",
       "      <td>11</td>\n",
       "    </tr>\n",
       "    <tr>\n",
       "      <th>9</th>\n",
       "      <td>Kazan</td>\n",
       "      <td>10</td>\n",
       "    </tr>\n",
       "  </tbody>\n",
       "</table>\n",
       "</div>"
      ],
      "text/plain": [
       "               city  count\n",
       "0              None  11215\n",
       "1            Moscow    217\n",
       "2  Saint Petersburg     56\n",
       "3         Krasnodar     46\n",
       "4         Stavropol     15\n",
       "5            Samara     14\n",
       "6     Yekaterinburg     14\n",
       "7    Rostov-na-Donu     12\n",
       "8       Makhachkala     11\n",
       "9             Kazan     10"
      ]
     },
     "execution_count": 45,
     "metadata": {},
     "output_type": "execute_result"
    }
   ],
   "source": [
    "import pyspark.sql.functions as F\n",
    "sdf_with_user_payments.groupBy(\"city\").agg(F.countDistinct(\"profile_id\").alias(\"count\")).orderBy(F.col(\"count\").desc()).limit(10).toPandas()"
   ]
  },
  {
   "cell_type": "code",
   "execution_count": 21,
   "id": "70b4e36c-a1df-4426-8076-3ef1d85aefaf",
   "metadata": {
    "tags": []
   },
   "outputs": [
    {
     "data": {
      "image/png": "[encoded data removed]",
      "text/plain": [
       "<Figure size 432x288 with 1 Axes>"
      ]
     },
     "metadata": {
      "needs_background": "light"
     },
     "output_type": "display_data"
    }
   ],
   "source": [
    "import pandas as pd\n",
    "import matplotlib.pyplot as plt\n",
    "\n",
    "# Создайте столбчатую диаграмму уникальных профилей\n",
    "df = sdf.groupBy(\"city\").agg(F.countDistinct(\"profile_id\").alias(\"unique_profiles\"))\n",
    "df_sorted = df.sort(\"unique_profiles\", ascending=False).limit(11).dropna().toPandas()\n",
    "df_sorted.plot.bar(x=\"city\", y=\"unique_profiles\")\n",
    "\n",
    "# Добавьте подписи к столбцам\n",
    "for bar in plt.gca().patches:\n",
    "    plt.gca().annotate(format(bar.get_height(), '.0f'),\n",
    "                     (bar.get_x() + bar.get_width() / 2,\n",
    "                      bar.get_height()), ha='center', va='center')\n",
    "\n",
    "# Настройте диаграмму\n",
    "plt.xlabel(\"City\")\n",
    "plt.ylabel(\"Number of Unique Profiles\")\n",
    "plt.title(\"Distribution of Unique Profiles by City\")\n",
    "plt.xticks(rotation=45)\n",
    "plt.tight_layout()\n",
    "plt.show()"
   ]
  },
  {
   "cell_type": "code",
   "execution_count": 22,
   "id": "eed913e0-fccb-485b-b2dc-d68b7fa193ad",
   "metadata": {
    "tags": []
   },
   "outputs": [
    {
     "data": {
      "image/png": "[encoded data removed]",
      "text/plain": [
       "<Figure size 432x288 with 1 Axes>"
      ]
     },
     "metadata": {
      "needs_background": "light"
     },
     "output_type": "display_data"
    }
   ],
   "source": [
    "# Create a bar chart of the unique profile counts\n",
    "sdf.groupBy(\"city\").agg(F.countDistinct(\"profile_id\").alias(\"unique_profiles\")).sort(\"unique_profiles\", ascending=False).limit(10).dropna().toPandas().plot.bar(x=\"city\", y=\"unique_profiles\")\n",
    "plt.xlabel(\"City\")\n",
    "plt.ylabel(\"Number of Unique Profiles\")\n",
    "plt.title(\"Distribution of Unique Profiles by City\")\n",
    "plt.xticks(rotation=45)\n",
    "plt.tight_layout()\n",
    "plt.show()"
   ]
  },
  {
   "cell_type": "code",
   "execution_count": 47,
   "id": "63f6c29c-c996-450a-96b8-969a169ea8ac",
   "metadata": {
    "tags": []
   },
   "outputs": [
    {
     "data": {
      "image/png": "[encoded data removed]",
      "text/plain": [
       "<Figure size 432x288 with 1 Axes>"
      ]
     },
     "metadata": {
      "needs_background": "light"
     },
     "output_type": "display_data"
    }
   ],
   "source": [
    "# Create a bar chart of the unique profile counts\n",
    "sdf_with_user_payments.groupBy(\"city\").agg(F.countDistinct(\"profile_id\").alias(\"unique_profiles\")).sort(\"unique_profiles\", ascending=False).limit(10).dropna().toPandas().plot.bar(x=\"city\", y=\"unique_profiles\")\n",
    "plt.xlabel(\"City\")\n",
    "plt.ylabel(\"Number of Unique Profiles\")\n",
    "plt.title(\"Distribution of Unique Profiles by City\")\n",
    "plt.xticks(rotation=45)\n",
    "plt.tight_layout()\n",
    "plt.show()"
   ]
  },
  {
   "cell_type": "markdown",
   "id": "18ad7310-b6f9-484e-96ad-4fdd005cacde",
   "metadata": {
    "tags": []
   },
   "source": [
    "## Analysis by type of connection"
   ]
  },
  {
   "cell_type": "code",
   "execution_count": 23,
   "id": "038f9a10-9c6c-4c78-819d-17a580d7a93d",
   "metadata": {
    "tags": []
   },
   "outputs": [
    {
     "name": "stdout",
     "output_type": "stream",
     "text": [
      "3\n"
     ]
    }
   ],
   "source": [
    "# Предполагается, что df - это DataFrame, содержащий столбец 'city'.\n",
    "unique_ct = sdf.select(\"connection_type\").distinct().count()\n",
    "print(unique_ct)\n"
   ]
  },
  {
   "cell_type": "code",
   "execution_count": 24,
   "id": "5ca3f366-d4b2-4919-bb6b-a88e786c2ddb",
   "metadata": {
    "tags": []
   },
   "outputs": [
    {
     "data": {
      "text/html": [
       "<div>\n",
       "<style scoped>\n",
       "    .dataframe tbody tr th:only-of-type {\n",
       "        vertical-align: middle;\n",
       "    }\n",
       "\n",
       "    .dataframe tbody tr th {\n",
       "        vertical-align: top;\n",
       "    }\n",
       "\n",
       "    .dataframe thead th {\n",
       "        text-align: right;\n",
       "    }\n",
       "</style>\n",
       "<table border=\"1\" class=\"dataframe\">\n",
       "  <thead>\n",
       "    <tr style=\"text-align: right;\">\n",
       "      <th></th>\n",
       "      <th>connection_type</th>\n",
       "      <th>count</th>\n",
       "    </tr>\n",
       "  </thead>\n",
       "  <tbody>\n",
       "    <tr>\n",
       "      <th>0</th>\n",
       "      <td>cell</td>\n",
       "      <td>558792</td>\n",
       "    </tr>\n",
       "    <tr>\n",
       "      <th>1</th>\n",
       "      <td>wifi</td>\n",
       "      <td>212864</td>\n",
       "    </tr>\n",
       "    <tr>\n",
       "      <th>2</th>\n",
       "      <td>unknown</td>\n",
       "      <td>618</td>\n",
       "    </tr>\n",
       "  </tbody>\n",
       "</table>\n",
       "</div>"
      ],
      "text/plain": [
       "  connection_type   count\n",
       "0            cell  558792\n",
       "1            wifi  212864\n",
       "2         unknown     618"
      ]
     },
     "execution_count": 24,
     "metadata": {},
     "output_type": "execute_result"
    }
   ],
   "source": [
    "import pyspark.sql.functions as F\n",
    "sdf.groupBy(\"connection_type\").agg(F.countDistinct(\"profile_id\").alias(\"count\")).orderBy(F.col(\"count\").desc()).toPandas()"
   ]
  },
  {
   "cell_type": "code",
   "execution_count": 48,
   "id": "653c8ee2-5f6a-49d0-863c-7ac96d97d6d3",
   "metadata": {
    "tags": []
   },
   "outputs": [
    {
     "data": {
      "text/html": [
       "<div>\n",
       "<style scoped>\n",
       "    .dataframe tbody tr th:only-of-type {\n",
       "        vertical-align: middle;\n",
       "    }\n",
       "\n",
       "    .dataframe tbody tr th {\n",
       "        vertical-align: top;\n",
       "    }\n",
       "\n",
       "    .dataframe thead th {\n",
       "        text-align: right;\n",
       "    }\n",
       "</style>\n",
       "<table border=\"1\" class=\"dataframe\">\n",
       "  <thead>\n",
       "    <tr style=\"text-align: right;\">\n",
       "      <th></th>\n",
       "      <th>connection_type</th>\n",
       "      <th>count</th>\n",
       "    </tr>\n",
       "  </thead>\n",
       "  <tbody>\n",
       "    <tr>\n",
       "      <th>0</th>\n",
       "      <td>cell</td>\n",
       "      <td>11560</td>\n",
       "    </tr>\n",
       "    <tr>\n",
       "      <th>1</th>\n",
       "      <td>wifi</td>\n",
       "      <td>10</td>\n",
       "    </tr>\n",
       "  </tbody>\n",
       "</table>\n",
       "</div>"
      ],
      "text/plain": [
       "  connection_type  count\n",
       "0            cell  11560\n",
       "1            wifi     10"
      ]
     },
     "execution_count": 48,
     "metadata": {},
     "output_type": "execute_result"
    }
   ],
   "source": [
    "import pyspark.sql.functions as F\n",
    "sdf_with_user_payments.groupBy(\"connection_type\").agg(F.countDistinct(\"profile_id\").alias(\"count\")).orderBy(F.col(\"count\").desc()).toPandas()"
   ]
  },
  {
   "cell_type": "code",
   "execution_count": 25,
   "id": "eac4aaa7-d8bd-40f4-9e12-33679353588e",
   "metadata": {
    "tags": []
   },
   "outputs": [
    {
     "data": {
      "image/png": "[encoded data removed]",
      "text/plain": [
       "<Figure size 432x288 with 1 Axes>"
      ]
     },
     "metadata": {
      "needs_background": "light"
     },
     "output_type": "display_data"
    }
   ],
   "source": [
    "# Create a bar chart of the unique profile counts\n",
    "sdf.groupBy(\"connection_type\").agg(F.countDistinct(\"profile_id\").alias(\"unique_profiles\")).sort(\"unique_profiles\", ascending=False).toPandas().plot.bar(x=\"connection_type\", y=\"unique_profiles\", color='red')\n",
    "plt.xlabel(\"Connection type\")\n",
    "plt.ylabel(\"Number of Unique Profiles\")\n",
    "plt.title(\"Distribution of Unique Profiles by connection type\")\n",
    "plt.xticks(rotation=45)\n",
    "plt.tight_layout()\n",
    "plt.show()"
   ]
  },
  {
   "cell_type": "code",
   "execution_count": 49,
   "id": "8b3eb7ab-8b44-45a3-8dd2-54a8bcd1e2b1",
   "metadata": {
    "tags": []
   },
   "outputs": [
    {
     "data": {
      "image/png": "[encoded data removed]",
      "text/plain": [
       "<Figure size 432x288 with 1 Axes>"
      ]
     },
     "metadata": {
      "needs_background": "light"
     },
     "output_type": "display_data"
    }
   ],
   "source": [
    "# Create a bar chart of the unique profile counts\n",
    "sdf_with_user_payments.groupBy(\"connection_type\").agg(F.countDistinct(\"profile_id\").alias(\"unique_profiles\")).sort(\"unique_profiles\", ascending=False).toPandas().plot.bar(x=\"connection_type\", y=\"unique_profiles\", color='red')\n",
    "plt.xlabel(\"Connection type\")\n",
    "plt.ylabel(\"Number of Unique Profiles\")\n",
    "plt.title(\"Distribution of Unique Profiles by connection type\")\n",
    "plt.xticks(rotation=45)\n",
    "plt.tight_layout()\n",
    "plt.show()"
   ]
  },
  {
   "cell_type": "code",
   "execution_count": 26,
   "id": "c5546c1b-3c76-453b-9b74-bf1c9e0e3306",
   "metadata": {
    "tags": []
   },
   "outputs": [
    {
     "data": {
      "image/png": "[encoded data removed]",
      "text/plain": [
       "<Figure size 432x288 with 1 Axes>"
      ]
     },
     "metadata": {},
     "output_type": "display_data"
    }
   ],
   "source": [
    "import pandas as pd\n",
    "import matplotlib.pyplot as plt\n",
    "\n",
    "# Create a DataFrame with the unique profile counts\n",
    "df = sdf.groupBy(\"connection_type\").agg(F.countDistinct(\"profile_id\").alias(\"unique_profiles\")).sort(\"unique_profiles\", ascending=False).toPandas()\n",
    "\n",
    "# Create a pie chart\n",
    "df.plot.pie(x=\"connection_type\", y=\"unique_profiles\", autopct='%1.1f%%', colors=['red', 'green', 'blue'], labels=['cell', 'wifi', 'unknown'])\n",
    "\n",
    "# Add labels and title\n",
    "plt.xlabel(\"Connection type\")\n",
    "plt.ylabel(\"Number of Unique Profiles\")\n",
    "plt.title(\"Distribution of Unique Profiles by connection type\")\n",
    "\n",
    "# Show the plot\n",
    "plt.show()"
   ]
  },
  {
   "cell_type": "code",
   "execution_count": 27,
   "id": "a0ddbfa0-9a74-42dc-982d-db3a6178d176",
   "metadata": {
    "tags": []
   },
   "outputs": [
    {
     "data": {
      "image/png": "[encoded data removed]",
      "text/plain": [
       "<Figure size 432x288 with 1 Axes>"
      ]
     },
     "metadata": {
      "needs_background": "light"
     },
     "output_type": "display_data"
    }
   ],
   "source": [
    "import pandas as pd\n",
    "import matplotlib.pyplot as plt\n",
    "\n",
    "# Создайте столбчатую диаграмму уникальных профилей\n",
    "df = sdf.groupBy(\"connection_type\").agg(F.countDistinct(\"profile_id\").alias(\"unique_profiles\"))\n",
    "df_sorted = df.sort(\"unique_profiles\", ascending=False).limit(11).dropna().toPandas()\n",
    "df_sorted.plot.bar(x=\"connection_type\", y=\"unique_profiles\", color='red')\n",
    "\n",
    "# Добавьте подписи к столбцам\n",
    "for bar in plt.gca().patches:\n",
    "    plt.gca().annotate(format(bar.get_height(), '.0f'),\n",
    "                     (bar.get_x() + bar.get_width() / 2,\n",
    "                      bar.get_height()), ha='center', va='center')\n",
    "\n",
    "# Настройте диаграмму\n",
    "plt.xlabel(\"Connection type\")\n",
    "plt.ylabel(\"Number of Unique Profiles\")\n",
    "plt.title(\"Distribution of Unique Profiles by connection type\")\n",
    "plt.xticks(rotation=45)\n",
    "plt.tight_layout()\n",
    "plt.show()"
   ]
  },
  {
   "cell_type": "markdown",
   "id": "5e6fb171-64d0-418f-8c7d-ad3718ea3b25",
   "metadata": {},
   "source": [
    "## Analysis by ISO Country codes"
   ]
  },
  {
   "cell_type": "code",
   "execution_count": 28,
   "id": "fd52b42c-e3a5-4d32-9b97-ca733988f22d",
   "metadata": {
    "tags": []
   },
   "outputs": [
    {
     "name": "stdout",
     "output_type": "stream",
     "text": [
      "137\n"
     ]
    }
   ],
   "source": [
    "# Предполагается, что df - это DataFrame, содержащий столбец 'city'.\n",
    "unique_ct = sdf.select(\"country_iso_code\").distinct().count()\n",
    "print(unique_ct)\n"
   ]
  },
  {
   "cell_type": "code",
   "execution_count": 29,
   "id": "ecb092b5-238c-476c-8edd-4cb6f45990cb",
   "metadata": {
    "tags": []
   },
   "outputs": [
    {
     "data": {
      "text/html": [
       "<div>\n",
       "<style scoped>\n",
       "    .dataframe tbody tr th:only-of-type {\n",
       "        vertical-align: middle;\n",
       "    }\n",
       "\n",
       "    .dataframe tbody tr th {\n",
       "        vertical-align: top;\n",
       "    }\n",
       "\n",
       "    .dataframe thead th {\n",
       "        text-align: right;\n",
       "    }\n",
       "</style>\n",
       "<table border=\"1\" class=\"dataframe\">\n",
       "  <thead>\n",
       "    <tr style=\"text-align: right;\">\n",
       "      <th></th>\n",
       "      <th>country_iso_code</th>\n",
       "      <th>count</th>\n",
       "    </tr>\n",
       "  </thead>\n",
       "  <tbody>\n",
       "    <tr>\n",
       "      <th>0</th>\n",
       "      <td>RU</td>\n",
       "      <td>609735</td>\n",
       "    </tr>\n",
       "    <tr>\n",
       "      <th>1</th>\n",
       "      <td>FR</td>\n",
       "      <td>5090</td>\n",
       "    </tr>\n",
       "    <tr>\n",
       "      <th>2</th>\n",
       "      <td>DE</td>\n",
       "      <td>4702</td>\n",
       "    </tr>\n",
       "    <tr>\n",
       "      <th>3</th>\n",
       "      <td>NL</td>\n",
       "      <td>4454</td>\n",
       "    </tr>\n",
       "    <tr>\n",
       "      <th>4</th>\n",
       "      <td>None</td>\n",
       "      <td>2710</td>\n",
       "    </tr>\n",
       "    <tr>\n",
       "      <th>5</th>\n",
       "      <td>GB</td>\n",
       "      <td>2634</td>\n",
       "    </tr>\n",
       "    <tr>\n",
       "      <th>6</th>\n",
       "      <td>US</td>\n",
       "      <td>1950</td>\n",
       "    </tr>\n",
       "    <tr>\n",
       "      <th>7</th>\n",
       "      <td>TR</td>\n",
       "      <td>1878</td>\n",
       "    </tr>\n",
       "    <tr>\n",
       "      <th>8</th>\n",
       "      <td>BY</td>\n",
       "      <td>1121</td>\n",
       "    </tr>\n",
       "    <tr>\n",
       "      <th>9</th>\n",
       "      <td>KZ</td>\n",
       "      <td>846</td>\n",
       "    </tr>\n",
       "    <tr>\n",
       "      <th>10</th>\n",
       "      <td>UZ</td>\n",
       "      <td>774</td>\n",
       "    </tr>\n",
       "    <tr>\n",
       "      <th>11</th>\n",
       "      <td>AZ</td>\n",
       "      <td>742</td>\n",
       "    </tr>\n",
       "    <tr>\n",
       "      <th>12</th>\n",
       "      <td>FI</td>\n",
       "      <td>728</td>\n",
       "    </tr>\n",
       "    <tr>\n",
       "      <th>13</th>\n",
       "      <td>PL</td>\n",
       "      <td>670</td>\n",
       "    </tr>\n",
       "    <tr>\n",
       "      <th>14</th>\n",
       "      <td>TJ</td>\n",
       "      <td>657</td>\n",
       "    </tr>\n",
       "  </tbody>\n",
       "</table>\n",
       "</div>"
      ],
      "text/plain": [
       "   country_iso_code   count\n",
       "0                RU  609735\n",
       "1                FR    5090\n",
       "2                DE    4702\n",
       "3                NL    4454\n",
       "4              None    2710\n",
       "5                GB    2634\n",
       "6                US    1950\n",
       "7                TR    1878\n",
       "8                BY    1121\n",
       "9                KZ     846\n",
       "10               UZ     774\n",
       "11               AZ     742\n",
       "12               FI     728\n",
       "13               PL     670\n",
       "14               TJ     657"
      ]
     },
     "execution_count": 29,
     "metadata": {},
     "output_type": "execute_result"
    }
   ],
   "source": [
    "import pyspark.sql.functions as F\n",
    "sdf.groupBy(\"country_iso_code\").agg(F.countDistinct(\"profile_id\").alias(\"count\")).orderBy(F.col(\"count\").desc()).limit(15).toPandas()"
   ]
  },
  {
   "cell_type": "code",
   "execution_count": 50,
   "id": "16180dbd-af56-4de7-8c7d-379b3bad432d",
   "metadata": {
    "tags": []
   },
   "outputs": [
    {
     "data": {
      "text/html": [
       "<div>\n",
       "<style scoped>\n",
       "    .dataframe tbody tr th:only-of-type {\n",
       "        vertical-align: middle;\n",
       "    }\n",
       "\n",
       "    .dataframe tbody tr th {\n",
       "        vertical-align: top;\n",
       "    }\n",
       "\n",
       "    .dataframe thead th {\n",
       "        text-align: right;\n",
       "    }\n",
       "</style>\n",
       "<table border=\"1\" class=\"dataframe\">\n",
       "  <thead>\n",
       "    <tr style=\"text-align: right;\">\n",
       "      <th></th>\n",
       "      <th>country_iso_code</th>\n",
       "      <th>count</th>\n",
       "    </tr>\n",
       "  </thead>\n",
       "  <tbody>\n",
       "    <tr>\n",
       "      <th>0</th>\n",
       "      <td>RU</td>\n",
       "      <td>11301</td>\n",
       "    </tr>\n",
       "    <tr>\n",
       "      <th>1</th>\n",
       "      <td>DE</td>\n",
       "      <td>88</td>\n",
       "    </tr>\n",
       "    <tr>\n",
       "      <th>2</th>\n",
       "      <td>NL</td>\n",
       "      <td>50</td>\n",
       "    </tr>\n",
       "    <tr>\n",
       "      <th>3</th>\n",
       "      <td>None</td>\n",
       "      <td>38</td>\n",
       "    </tr>\n",
       "    <tr>\n",
       "      <th>4</th>\n",
       "      <td>US</td>\n",
       "      <td>34</td>\n",
       "    </tr>\n",
       "    <tr>\n",
       "      <th>5</th>\n",
       "      <td>FR</td>\n",
       "      <td>34</td>\n",
       "    </tr>\n",
       "    <tr>\n",
       "      <th>6</th>\n",
       "      <td>GB</td>\n",
       "      <td>27</td>\n",
       "    </tr>\n",
       "    <tr>\n",
       "      <th>7</th>\n",
       "      <td>AZ</td>\n",
       "      <td>16</td>\n",
       "    </tr>\n",
       "    <tr>\n",
       "      <th>8</th>\n",
       "      <td>FI</td>\n",
       "      <td>13</td>\n",
       "    </tr>\n",
       "    <tr>\n",
       "      <th>9</th>\n",
       "      <td>TR</td>\n",
       "      <td>11</td>\n",
       "    </tr>\n",
       "    <tr>\n",
       "      <th>10</th>\n",
       "      <td>TH</td>\n",
       "      <td>11</td>\n",
       "    </tr>\n",
       "    <tr>\n",
       "      <th>11</th>\n",
       "      <td>BY</td>\n",
       "      <td>10</td>\n",
       "    </tr>\n",
       "    <tr>\n",
       "      <th>12</th>\n",
       "      <td>GE</td>\n",
       "      <td>9</td>\n",
       "    </tr>\n",
       "    <tr>\n",
       "      <th>13</th>\n",
       "      <td>NO</td>\n",
       "      <td>9</td>\n",
       "    </tr>\n",
       "    <tr>\n",
       "      <th>14</th>\n",
       "      <td>UZ</td>\n",
       "      <td>7</td>\n",
       "    </tr>\n",
       "  </tbody>\n",
       "</table>\n",
       "</div>"
      ],
      "text/plain": [
       "   country_iso_code  count\n",
       "0                RU  11301\n",
       "1                DE     88\n",
       "2                NL     50\n",
       "3              None     38\n",
       "4                US     34\n",
       "5                FR     34\n",
       "6                GB     27\n",
       "7                AZ     16\n",
       "8                FI     13\n",
       "9                TR     11\n",
       "10               TH     11\n",
       "11               BY     10\n",
       "12               GE      9\n",
       "13               NO      9\n",
       "14               UZ      7"
      ]
     },
     "execution_count": 50,
     "metadata": {},
     "output_type": "execute_result"
    }
   ],
   "source": [
    "import pyspark.sql.functions as F\n",
    "sdf_with_user_payments.groupBy(\"country_iso_code\").agg(F.countDistinct(\"profile_id\").alias(\"count\")).orderBy(F.col(\"count\").desc()).limit(15).toPandas()"
   ]
  },
  {
   "cell_type": "code",
   "execution_count": 52,
   "id": "a00a0041-9391-4f2a-ad27-84ea3af1c806",
   "metadata": {
    "tags": []
   },
   "outputs": [
    {
     "data": {
      "text/html": [
       "<div>\n",
       "<style scoped>\n",
       "    .dataframe tbody tr th:only-of-type {\n",
       "        vertical-align: middle;\n",
       "    }\n",
       "\n",
       "    .dataframe tbody tr th {\n",
       "        vertical-align: top;\n",
       "    }\n",
       "\n",
       "    .dataframe thead th {\n",
       "        text-align: right;\n",
       "    }\n",
       "</style>\n",
       "<table border=\"1\" class=\"dataframe\">\n",
       "  <thead>\n",
       "    <tr style=\"text-align: right;\">\n",
       "      <th></th>\n",
       "      <th>country_iso_code</th>\n",
       "      <th>count</th>\n",
       "    </tr>\n",
       "  </thead>\n",
       "  <tbody>\n",
       "    <tr>\n",
       "      <th>0</th>\n",
       "      <td>RU</td>\n",
       "      <td>11301</td>\n",
       "    </tr>\n",
       "    <tr>\n",
       "      <th>1</th>\n",
       "      <td>DE</td>\n",
       "      <td>88</td>\n",
       "    </tr>\n",
       "    <tr>\n",
       "      <th>2</th>\n",
       "      <td>NL</td>\n",
       "      <td>50</td>\n",
       "    </tr>\n",
       "    <tr>\n",
       "      <th>3</th>\n",
       "      <td>US</td>\n",
       "      <td>34</td>\n",
       "    </tr>\n",
       "    <tr>\n",
       "      <th>4</th>\n",
       "      <td>FR</td>\n",
       "      <td>34</td>\n",
       "    </tr>\n",
       "    <tr>\n",
       "      <th>5</th>\n",
       "      <td>GB</td>\n",
       "      <td>27</td>\n",
       "    </tr>\n",
       "    <tr>\n",
       "      <th>6</th>\n",
       "      <td>AZ</td>\n",
       "      <td>16</td>\n",
       "    </tr>\n",
       "    <tr>\n",
       "      <th>7</th>\n",
       "      <td>FI</td>\n",
       "      <td>13</td>\n",
       "    </tr>\n",
       "    <tr>\n",
       "      <th>8</th>\n",
       "      <td>TH</td>\n",
       "      <td>11</td>\n",
       "    </tr>\n",
       "    <tr>\n",
       "      <th>9</th>\n",
       "      <td>TR</td>\n",
       "      <td>11</td>\n",
       "    </tr>\n",
       "    <tr>\n",
       "      <th>10</th>\n",
       "      <td>BY</td>\n",
       "      <td>10</td>\n",
       "    </tr>\n",
       "    <tr>\n",
       "      <th>11</th>\n",
       "      <td>GE</td>\n",
       "      <td>9</td>\n",
       "    </tr>\n",
       "    <tr>\n",
       "      <th>12</th>\n",
       "      <td>NO</td>\n",
       "      <td>9</td>\n",
       "    </tr>\n",
       "    <tr>\n",
       "      <th>13</th>\n",
       "      <td>UZ</td>\n",
       "      <td>7</td>\n",
       "    </tr>\n",
       "  </tbody>\n",
       "</table>\n",
       "</div>"
      ],
      "text/plain": [
       "   country_iso_code  count\n",
       "0                RU  11301\n",
       "1                DE     88\n",
       "2                NL     50\n",
       "3                US     34\n",
       "4                FR     34\n",
       "5                GB     27\n",
       "6                AZ     16\n",
       "7                FI     13\n",
       "8                TH     11\n",
       "9                TR     11\n",
       "10               BY     10\n",
       "11               GE      9\n",
       "12               NO      9\n",
       "13               UZ      7"
      ]
     },
     "execution_count": 52,
     "metadata": {},
     "output_type": "execute_result"
    }
   ],
   "source": [
    "import pyspark.sql.functions as F\n",
    "sdf_with_user_payments.groupBy(\"country_iso_code\").agg(F.countDistinct(\"profile_id\").alias(\"count\")).orderBy(F.col(\"count\").desc()).limit(15).dropna().toPandas()"
   ]
  },
  {
   "cell_type": "code",
   "execution_count": 30,
   "id": "ad258a94-b2b7-4087-b9b6-b8f6b42fa7f6",
   "metadata": {
    "tags": []
   },
   "outputs": [
    {
     "data": {
      "text/html": [
       "<div>\n",
       "<style scoped>\n",
       "    .dataframe tbody tr th:only-of-type {\n",
       "        vertical-align: middle;\n",
       "    }\n",
       "\n",
       "    .dataframe tbody tr th {\n",
       "        vertical-align: top;\n",
       "    }\n",
       "\n",
       "    .dataframe thead th {\n",
       "        text-align: right;\n",
       "    }\n",
       "</style>\n",
       "<table border=\"1\" class=\"dataframe\">\n",
       "  <thead>\n",
       "    <tr style=\"text-align: right;\">\n",
       "      <th></th>\n",
       "      <th>country_iso_code</th>\n",
       "      <th>count</th>\n",
       "    </tr>\n",
       "  </thead>\n",
       "  <tbody>\n",
       "    <tr>\n",
       "      <th>0</th>\n",
       "      <td>LC</td>\n",
       "      <td>1</td>\n",
       "    </tr>\n",
       "    <tr>\n",
       "      <th>1</th>\n",
       "      <td>PG</td>\n",
       "      <td>1</td>\n",
       "    </tr>\n",
       "    <tr>\n",
       "      <th>2</th>\n",
       "      <td>YE</td>\n",
       "      <td>1</td>\n",
       "    </tr>\n",
       "    <tr>\n",
       "      <th>3</th>\n",
       "      <td>AD</td>\n",
       "      <td>1</td>\n",
       "    </tr>\n",
       "    <tr>\n",
       "      <th>4</th>\n",
       "      <td>GQ</td>\n",
       "      <td>1</td>\n",
       "    </tr>\n",
       "    <tr>\n",
       "      <th>5</th>\n",
       "      <td>CF</td>\n",
       "      <td>1</td>\n",
       "    </tr>\n",
       "    <tr>\n",
       "      <th>6</th>\n",
       "      <td>PS</td>\n",
       "      <td>1</td>\n",
       "    </tr>\n",
       "    <tr>\n",
       "      <th>7</th>\n",
       "      <td>PA</td>\n",
       "      <td>1</td>\n",
       "    </tr>\n",
       "    <tr>\n",
       "      <th>8</th>\n",
       "      <td>PY</td>\n",
       "      <td>1</td>\n",
       "    </tr>\n",
       "    <tr>\n",
       "      <th>9</th>\n",
       "      <td>MK</td>\n",
       "      <td>1</td>\n",
       "    </tr>\n",
       "    <tr>\n",
       "      <th>10</th>\n",
       "      <td>RW</td>\n",
       "      <td>1</td>\n",
       "    </tr>\n",
       "    <tr>\n",
       "      <th>11</th>\n",
       "      <td>CM</td>\n",
       "      <td>1</td>\n",
       "    </tr>\n",
       "    <tr>\n",
       "      <th>12</th>\n",
       "      <td>NA</td>\n",
       "      <td>1</td>\n",
       "    </tr>\n",
       "    <tr>\n",
       "      <th>13</th>\n",
       "      <td>MG</td>\n",
       "      <td>1</td>\n",
       "    </tr>\n",
       "    <tr>\n",
       "      <th>14</th>\n",
       "      <td>VG</td>\n",
       "      <td>1</td>\n",
       "    </tr>\n",
       "  </tbody>\n",
       "</table>\n",
       "</div>"
      ],
      "text/plain": [
       "   country_iso_code  count\n",
       "0                LC      1\n",
       "1                PG      1\n",
       "2                YE      1\n",
       "3                AD      1\n",
       "4                GQ      1\n",
       "5                CF      1\n",
       "6                PS      1\n",
       "7                PA      1\n",
       "8                PY      1\n",
       "9                MK      1\n",
       "10               RW      1\n",
       "11               CM      1\n",
       "12               NA      1\n",
       "13               MG      1\n",
       "14               VG      1"
      ]
     },
     "execution_count": 30,
     "metadata": {},
     "output_type": "execute_result"
    }
   ],
   "source": [
    "import pyspark.sql.functions as F\n",
    "sdf.groupBy(\"country_iso_code\").agg(F.countDistinct(\"profile_id\").alias(\"count\")).orderBy(F.col(\"count\").asc()).limit(15).toPandas()"
   ]
  },
  {
   "cell_type": "code",
   "execution_count": 31,
   "id": "54310611-21b5-4c73-84aa-e7028ed6c212",
   "metadata": {
    "tags": []
   },
   "outputs": [
    {
     "data": {
      "image/png": "[encoded data removed]",
      "text/plain": [
       "<Figure size 432x288 with 1 Axes>"
      ]
     },
     "metadata": {
      "needs_background": "light"
     },
     "output_type": "display_data"
    }
   ],
   "source": [
    "# Create a bar chart of the unique profile counts\n",
    "sdf.groupBy(\"country_iso_code\").agg(F.countDistinct(\"profile_id\").alias(\"unique_profiles\")).sort(\"unique_profiles\", ascending=False).limit(10).toPandas().plot.bar(x=\"country_iso_code\", y=\"unique_profiles\")\n",
    "plt.xlabel(\"ISO Country codes\")\n",
    "plt.ylabel(\"Number of Unique Profiles\")\n",
    "plt.title(\"Distribution of Unique Profiles by ISO Country codes\")\n",
    "plt.xticks(rotation=45)\n",
    "plt.tight_layout()\n",
    "plt.show()"
   ]
  },
  {
   "cell_type": "code",
   "execution_count": 32,
   "id": "c55cf451-397f-4623-8055-017ea3dd98f2",
   "metadata": {
    "tags": []
   },
   "outputs": [
    {
     "data": {
      "image/png": "[encoded data removed]",
      "text/plain": [
       "<Figure size 432x288 with 1 Axes>"
      ]
     },
     "metadata": {
      "needs_background": "light"
     },
     "output_type": "display_data"
    }
   ],
   "source": [
    "import pandas as pd\n",
    "import matplotlib.pyplot as plt\n",
    "\n",
    "# Создайте столбчатую диаграмму уникальных профилей\n",
    "df = sdf.groupBy(\"country_iso_code\").agg(F.countDistinct(\"profile_id\").alias(\"unique_profiles\"))\n",
    "df_sorted = df.sort(\"unique_profiles\", ascending=False).limit(11).dropna().toPandas()\n",
    "df_sorted.plot.bar(x=\"country_iso_code\", y=\"unique_profiles\", color='lightcoral')\n",
    "\n",
    "# Добавьте подписи к столбцам\n",
    "for bar in plt.gca().patches:\n",
    "    plt.gca().annotate(format(bar.get_height(), '.0f'),\n",
    "                     (bar.get_x() + bar.get_width() / 2,\n",
    "                      bar.get_height()), ha='center', va='center')\n",
    "\n",
    "# Настройте диаграмму\n",
    "plt.xlabel(\"ISO Country codes\")\n",
    "plt.ylabel(\"Number of Unique Profiles\")\n",
    "plt.title(\"Distribution of Unique Profiles by ISO Country codes\")\n",
    "plt.xticks(rotation=45)\n",
    "plt.tight_layout()\n",
    "plt.show()"
   ]
  },
  {
   "cell_type": "code",
   "execution_count": null,
   "id": "cff63aeb-59c9-4883-ae46-465bd567a6e5",
   "metadata": {
    "tags": []
   },
   "outputs": [],
   "source": []
  },
  {
   "cell_type": "markdown",
   "id": "4dfccdc9-633e-4dac-8e4b-3588062c9ccf",
   "metadata": {},
   "source": [
    "## Analysis by device manufacturer"
   ]
  },
  {
   "cell_type": "code",
   "execution_count": 33,
   "id": "f59434af-564d-4175-89b9-4a3cc0ea8ba6",
   "metadata": {
    "tags": []
   },
   "outputs": [
    {
     "name": "stdout",
     "output_type": "stream",
     "text": [
      "220\n"
     ]
    }
   ],
   "source": [
    "# Предполагается, что df - это DataFrame, содержащий столбец 'city'.\n",
    "unique_ct = sdf.select(\"device_manufacturer\").distinct().count()\n",
    "print(unique_ct)\n"
   ]
  },
  {
   "cell_type": "code",
   "execution_count": 53,
   "id": "1e5527bd-bc08-418a-a604-d07fac2eda6b",
   "metadata": {
    "tags": []
   },
   "outputs": [
    {
     "name": "stdout",
     "output_type": "stream",
     "text": [
      "1\n"
     ]
    }
   ],
   "source": [
    "# Предполагается, что df - это DataFrame, содержащий столбец 'city'.\n",
    "unique_ct = sdf_with_user_payments.select(\"device_manufacturer\").distinct().count()\n",
    "print(unique_ct)\n"
   ]
  },
  {
   "cell_type": "code",
   "execution_count": 34,
   "id": "d5409b7b-ec23-46ac-baff-70db0d249322",
   "metadata": {
    "tags": []
   },
   "outputs": [
    {
     "data": {
      "text/html": [
       "<div>\n",
       "<style scoped>\n",
       "    .dataframe tbody tr th:only-of-type {\n",
       "        vertical-align: middle;\n",
       "    }\n",
       "\n",
       "    .dataframe tbody tr th {\n",
       "        vertical-align: top;\n",
       "    }\n",
       "\n",
       "    .dataframe thead th {\n",
       "        text-align: right;\n",
       "    }\n",
       "</style>\n",
       "<table border=\"1\" class=\"dataframe\">\n",
       "  <thead>\n",
       "    <tr style=\"text-align: right;\">\n",
       "      <th></th>\n",
       "      <th>device_manufacturer</th>\n",
       "      <th>count</th>\n",
       "    </tr>\n",
       "  </thead>\n",
       "  <tbody>\n",
       "    <tr>\n",
       "      <th>0</th>\n",
       "      <td>Apple</td>\n",
       "      <td>234906</td>\n",
       "    </tr>\n",
       "    <tr>\n",
       "      <th>1</th>\n",
       "      <td>Samsung</td>\n",
       "      <td>121821</td>\n",
       "    </tr>\n",
       "    <tr>\n",
       "      <th>2</th>\n",
       "      <td>Redmi</td>\n",
       "      <td>72616</td>\n",
       "    </tr>\n",
       "    <tr>\n",
       "      <th>3</th>\n",
       "      <td>Huawei</td>\n",
       "      <td>49047</td>\n",
       "    </tr>\n",
       "    <tr>\n",
       "      <th>4</th>\n",
       "      <td>Xiaomi</td>\n",
       "      <td>34911</td>\n",
       "    </tr>\n",
       "    <tr>\n",
       "      <th>5</th>\n",
       "      <td>Realme</td>\n",
       "      <td>24730</td>\n",
       "    </tr>\n",
       "    <tr>\n",
       "      <th>6</th>\n",
       "      <td>POCO</td>\n",
       "      <td>17700</td>\n",
       "    </tr>\n",
       "    <tr>\n",
       "      <th>7</th>\n",
       "      <td>Tecno</td>\n",
       "      <td>12959</td>\n",
       "    </tr>\n",
       "    <tr>\n",
       "      <th>8</th>\n",
       "      <td>Honor</td>\n",
       "      <td>10373</td>\n",
       "    </tr>\n",
       "    <tr>\n",
       "      <th>9</th>\n",
       "      <td>Infinix</td>\n",
       "      <td>9002</td>\n",
       "    </tr>\n",
       "    <tr>\n",
       "      <th>10</th>\n",
       "      <td>Vivo</td>\n",
       "      <td>6225</td>\n",
       "    </tr>\n",
       "    <tr>\n",
       "      <th>11</th>\n",
       "      <td>Oppo</td>\n",
       "      <td>5554</td>\n",
       "    </tr>\n",
       "    <tr>\n",
       "      <th>12</th>\n",
       "      <td>OnePlus</td>\n",
       "      <td>4278</td>\n",
       "    </tr>\n",
       "    <tr>\n",
       "      <th>13</th>\n",
       "      <td>Google</td>\n",
       "      <td>1332</td>\n",
       "    </tr>\n",
       "    <tr>\n",
       "      <th>14</th>\n",
       "      <td>Asus</td>\n",
       "      <td>1254</td>\n",
       "    </tr>\n",
       "  </tbody>\n",
       "</table>\n",
       "</div>"
      ],
      "text/plain": [
       "   device_manufacturer   count\n",
       "0                Apple  234906\n",
       "1              Samsung  121821\n",
       "2                Redmi   72616\n",
       "3               Huawei   49047\n",
       "4               Xiaomi   34911\n",
       "5               Realme   24730\n",
       "6                 POCO   17700\n",
       "7                Tecno   12959\n",
       "8                Honor   10373\n",
       "9              Infinix    9002\n",
       "10                Vivo    6225\n",
       "11                Oppo    5554\n",
       "12             OnePlus    4278\n",
       "13              Google    1332\n",
       "14                Asus    1254"
      ]
     },
     "execution_count": 34,
     "metadata": {},
     "output_type": "execute_result"
    }
   ],
   "source": [
    "import pyspark.sql.functions as F\n",
    "sdf.groupBy(\"device_manufacturer\").agg(F.countDistinct(\"profile_id\").alias(\"count\")).orderBy(F.col(\"count\").desc()).limit(15).toPandas()"
   ]
  },
  {
   "cell_type": "code",
   "execution_count": 56,
   "id": "45c4f3d2-9071-4340-a524-7509861adc27",
   "metadata": {
    "tags": []
   },
   "outputs": [
    {
     "data": {
      "text/html": [
       "<div>\n",
       "<style scoped>\n",
       "    .dataframe tbody tr th:only-of-type {\n",
       "        vertical-align: middle;\n",
       "    }\n",
       "\n",
       "    .dataframe tbody tr th {\n",
       "        vertical-align: top;\n",
       "    }\n",
       "\n",
       "    .dataframe thead th {\n",
       "        text-align: right;\n",
       "    }\n",
       "</style>\n",
       "<table border=\"1\" class=\"dataframe\">\n",
       "  <thead>\n",
       "    <tr style=\"text-align: right;\">\n",
       "      <th></th>\n",
       "      <th>device_manufacturer</th>\n",
       "      <th>count</th>\n",
       "    </tr>\n",
       "  </thead>\n",
       "  <tbody>\n",
       "    <tr>\n",
       "      <th>0</th>\n",
       "      <td>Apple</td>\n",
       "      <td>11570</td>\n",
       "    </tr>\n",
       "  </tbody>\n",
       "</table>\n",
       "</div>"
      ],
      "text/plain": [
       "  device_manufacturer  count\n",
       "0               Apple  11570"
      ]
     },
     "execution_count": 56,
     "metadata": {},
     "output_type": "execute_result"
    }
   ],
   "source": [
    "import pyspark.sql.functions as F\n",
    "sdf_with_user_payments.groupBy(\"device_manufacturer\").agg(F.countDistinct(\"profile_id\").alias(\"count\")).orderBy(F.col(\"count\").desc()).toPandas()"
   ]
  },
  {
   "cell_type": "code",
   "execution_count": 35,
   "id": "fcad05c9-c444-408f-abbe-c96059c53786",
   "metadata": {
    "tags": []
   },
   "outputs": [
    {
     "data": {
      "text/html": [
       "<div>\n",
       "<style scoped>\n",
       "    .dataframe tbody tr th:only-of-type {\n",
       "        vertical-align: middle;\n",
       "    }\n",
       "\n",
       "    .dataframe tbody tr th {\n",
       "        vertical-align: top;\n",
       "    }\n",
       "\n",
       "    .dataframe thead th {\n",
       "        text-align: right;\n",
       "    }\n",
       "</style>\n",
       "<table border=\"1\" class=\"dataframe\">\n",
       "  <thead>\n",
       "    <tr style=\"text-align: right;\">\n",
       "      <th></th>\n",
       "      <th>device_manufacturer</th>\n",
       "      <th>count</th>\n",
       "    </tr>\n",
       "  </thead>\n",
       "  <tbody>\n",
       "    <tr>\n",
       "      <th>0</th>\n",
       "      <td>THL</td>\n",
       "      <td>0</td>\n",
       "    </tr>\n",
       "    <tr>\n",
       "      <th>1</th>\n",
       "      <td>Explay</td>\n",
       "      <td>0</td>\n",
       "    </tr>\n",
       "    <tr>\n",
       "      <th>2</th>\n",
       "      <td>YTX</td>\n",
       "      <td>0</td>\n",
       "    </tr>\n",
       "    <tr>\n",
       "      <th>3</th>\n",
       "      <td>Yota Devices Limited</td>\n",
       "      <td>0</td>\n",
       "    </tr>\n",
       "    <tr>\n",
       "      <th>4</th>\n",
       "      <td>UNISOC</td>\n",
       "      <td>0</td>\n",
       "    </tr>\n",
       "    <tr>\n",
       "      <th>5</th>\n",
       "      <td>C20pro</td>\n",
       "      <td>0</td>\n",
       "    </tr>\n",
       "    <tr>\n",
       "      <th>6</th>\n",
       "      <td>Android</td>\n",
       "      <td>0</td>\n",
       "    </tr>\n",
       "    <tr>\n",
       "      <th>7</th>\n",
       "      <td>Hot Pepper</td>\n",
       "      <td>0</td>\n",
       "    </tr>\n",
       "    <tr>\n",
       "      <th>8</th>\n",
       "      <td>AllView</td>\n",
       "      <td>0</td>\n",
       "    </tr>\n",
       "    <tr>\n",
       "      <th>9</th>\n",
       "      <td>Doro</td>\n",
       "      <td>0</td>\n",
       "    </tr>\n",
       "    <tr>\n",
       "      <th>10</th>\n",
       "      <td>HENA</td>\n",
       "      <td>0</td>\n",
       "    </tr>\n",
       "    <tr>\n",
       "      <th>11</th>\n",
       "      <td>DNS</td>\n",
       "      <td>1</td>\n",
       "    </tr>\n",
       "    <tr>\n",
       "      <th>12</th>\n",
       "      <td>LI_AUTO</td>\n",
       "      <td>1</td>\n",
       "    </tr>\n",
       "    <tr>\n",
       "      <th>13</th>\n",
       "      <td>Billion</td>\n",
       "      <td>1</td>\n",
       "    </tr>\n",
       "    <tr>\n",
       "      <th>14</th>\n",
       "      <td>BALMUDA</td>\n",
       "      <td>1</td>\n",
       "    </tr>\n",
       "  </tbody>\n",
       "</table>\n",
       "</div>"
      ],
      "text/plain": [
       "     device_manufacturer  count\n",
       "0                    THL      0\n",
       "1                 Explay      0\n",
       "2                    YTX      0\n",
       "3   Yota Devices Limited      0\n",
       "4                 UNISOC      0\n",
       "5                 C20pro      0\n",
       "6                Android      0\n",
       "7             Hot Pepper      0\n",
       "8                AllView      0\n",
       "9                   Doro      0\n",
       "10                  HENA      0\n",
       "11                   DNS      1\n",
       "12               LI_AUTO      1\n",
       "13               Billion      1\n",
       "14               BALMUDA      1"
      ]
     },
     "execution_count": 35,
     "metadata": {},
     "output_type": "execute_result"
    }
   ],
   "source": [
    "import pyspark.sql.functions as F\n",
    "sdf.groupBy(\"device_manufacturer\").agg(F.countDistinct(\"profile_id\").alias(\"count\")).orderBy(F.col(\"count\").asc()).limit(15).toPandas()"
   ]
  },
  {
   "cell_type": "code",
   "execution_count": 36,
   "id": "98407b04-fd91-4c89-acab-e47b2b3f0321",
   "metadata": {
    "tags": []
   },
   "outputs": [
    {
     "data": {
      "image/png": "[encoded data removed]",
      "text/plain": [
       "<Figure size 432x288 with 1 Axes>"
      ]
     },
     "metadata": {
      "needs_background": "light"
     },
     "output_type": "display_data"
    }
   ],
   "source": [
    "# Create a bar chart of the unique profile counts\n",
    "sdf.groupBy(\"device_manufacturer\").agg(F.countDistinct(\"profile_id\").alias(\"unique_profiles\")).sort(\"unique_profiles\", ascending=False).limit(10).toPandas().plot.bar(x=\"device_manufacturer\", y=\"unique_profiles\")\n",
    "plt.xlabel(\"Device manufacturer\")\n",
    "plt.ylabel(\"Number of Unique Profiles\")\n",
    "plt.title(\"Distribution of Unique Profiles by device manufacturer\")\n",
    "plt.xticks(rotation=45)\n",
    "plt.tight_layout()\n",
    "plt.show()"
   ]
  },
  {
   "cell_type": "code",
   "execution_count": 37,
   "id": "fc3574db-9e4e-4f19-aba7-844fda397b53",
   "metadata": {
    "tags": []
   },
   "outputs": [
    {
     "data": {
      "image/png": "[encoded data removed]",
      "text/plain": [
       "<Figure size 432x288 with 1 Axes>"
      ]
     },
     "metadata": {
      "needs_background": "light"
     },
     "output_type": "display_data"
    }
   ],
   "source": [
    "import pandas as pd\n",
    "import matplotlib.pyplot as plt\n",
    "\n",
    "# Создайте столбчатую диаграмму уникальных профилей\n",
    "df = sdf.groupBy(\"device_manufacturer\").agg(F.countDistinct(\"profile_id\").alias(\"unique_profiles\"))\n",
    "df_sorted = df.sort(\"unique_profiles\", ascending=False).limit(11).dropna().toPandas()\n",
    "df_sorted.plot.bar(x=\"device_manufacturer\", y=\"unique_profiles\", color='lightcoral')\n",
    "\n",
    "# Добавьте подписи к столбцам\n",
    "for bar in plt.gca().patches:\n",
    "    plt.gca().annotate(format(bar.get_height(), '.0f'),\n",
    "                     (bar.get_x() + bar.get_width() / 2,\n",
    "                      bar.get_height()), ha='center', va='center')\n",
    "\n",
    "# Настройте диаграмму\n",
    "plt.xlabel(\"Device manufacturer\")\n",
    "plt.ylabel(\"Number of Unique Profiles\")\n",
    "plt.title(\"Distribution of Unique Profiles by device manufacturer\")\n",
    "plt.xticks(rotation=45)\n",
    "plt.tight_layout()\n",
    "plt.show()"
   ]
  },
  {
   "cell_type": "markdown",
   "id": "fe67b65a-bf54-4716-a6ab-341b8f67818a",
   "metadata": {},
   "source": [
    "## Analysis by device model "
   ]
  },
  {
   "cell_type": "code",
   "execution_count": 38,
   "id": "2ae8a902-1993-466e-a572-9032f09fd0d5",
   "metadata": {
    "tags": []
   },
   "outputs": [
    {
     "name": "stdout",
     "output_type": "stream",
     "text": [
      "3275\n"
     ]
    }
   ],
   "source": [
    "# Предполагается, что df - это DataFrame, содержащий столбец 'city'.\n",
    "unique_ct = sdf.select(\"device_model\").distinct().count()\n",
    "print(unique_ct)\n"
   ]
  },
  {
   "cell_type": "code",
   "execution_count": 39,
   "id": "9df1fee3-94ce-425f-a769-5df7db2d124b",
   "metadata": {
    "tags": []
   },
   "outputs": [
    {
     "data": {
      "text/html": [
       "<div>\n",
       "<style scoped>\n",
       "    .dataframe tbody tr th:only-of-type {\n",
       "        vertical-align: middle;\n",
       "    }\n",
       "\n",
       "    .dataframe tbody tr th {\n",
       "        vertical-align: top;\n",
       "    }\n",
       "\n",
       "    .dataframe thead th {\n",
       "        text-align: right;\n",
       "    }\n",
       "</style>\n",
       "<table border=\"1\" class=\"dataframe\">\n",
       "  <thead>\n",
       "    <tr style=\"text-align: right;\">\n",
       "      <th></th>\n",
       "      <th>device_model</th>\n",
       "      <th>count</th>\n",
       "    </tr>\n",
       "  </thead>\n",
       "  <tbody>\n",
       "    <tr>\n",
       "      <th>0</th>\n",
       "      <td>iPhone 11</td>\n",
       "      <td>36474</td>\n",
       "    </tr>\n",
       "    <tr>\n",
       "      <th>1</th>\n",
       "      <td>iPhone 13</td>\n",
       "      <td>16287</td>\n",
       "    </tr>\n",
       "    <tr>\n",
       "      <th>2</th>\n",
       "      <td>iPhone 12</td>\n",
       "      <td>13303</td>\n",
       "    </tr>\n",
       "    <tr>\n",
       "      <th>3</th>\n",
       "      <td>iPhone XR</td>\n",
       "      <td>13181</td>\n",
       "    </tr>\n",
       "    <tr>\n",
       "      <th>4</th>\n",
       "      <td>iPhone 13 Pro Max</td>\n",
       "      <td>11849</td>\n",
       "    </tr>\n",
       "    <tr>\n",
       "      <th>5</th>\n",
       "      <td>iPhone 13 Pro</td>\n",
       "      <td>11660</td>\n",
       "    </tr>\n",
       "    <tr>\n",
       "      <th>6</th>\n",
       "      <td>iPhone 14 Pro Max</td>\n",
       "      <td>11579</td>\n",
       "    </tr>\n",
       "    <tr>\n",
       "      <th>7</th>\n",
       "      <td>iPhone 14 Pro</td>\n",
       "      <td>10781</td>\n",
       "    </tr>\n",
       "    <tr>\n",
       "      <th>8</th>\n",
       "      <td>iPhone16,2</td>\n",
       "      <td>10612</td>\n",
       "    </tr>\n",
       "    <tr>\n",
       "      <th>9</th>\n",
       "      <td>iPhone16,1</td>\n",
       "      <td>8472</td>\n",
       "    </tr>\n",
       "    <tr>\n",
       "      <th>10</th>\n",
       "      <td>iPhone 12 Pro</td>\n",
       "      <td>8274</td>\n",
       "    </tr>\n",
       "    <tr>\n",
       "      <th>11</th>\n",
       "      <td>iPhone 12 Pro Max</td>\n",
       "      <td>8045</td>\n",
       "    </tr>\n",
       "    <tr>\n",
       "      <th>12</th>\n",
       "      <td>iPhone15,3</td>\n",
       "      <td>7930</td>\n",
       "    </tr>\n",
       "    <tr>\n",
       "      <th>13</th>\n",
       "      <td>iPhone15,2</td>\n",
       "      <td>7479</td>\n",
       "    </tr>\n",
       "    <tr>\n",
       "      <th>14</th>\n",
       "      <td>iPhone 7</td>\n",
       "      <td>7460</td>\n",
       "    </tr>\n",
       "    <tr>\n",
       "      <th>15</th>\n",
       "      <td>iPhone X</td>\n",
       "      <td>7049</td>\n",
       "    </tr>\n",
       "    <tr>\n",
       "      <th>16</th>\n",
       "      <td>Galaxy A51</td>\n",
       "      <td>6887</td>\n",
       "    </tr>\n",
       "    <tr>\n",
       "      <th>17</th>\n",
       "      <td>Redmi Note 8 Pro</td>\n",
       "      <td>6881</td>\n",
       "    </tr>\n",
       "    <tr>\n",
       "      <th>18</th>\n",
       "      <td>Galaxy A50</td>\n",
       "      <td>6366</td>\n",
       "    </tr>\n",
       "    <tr>\n",
       "      <th>19</th>\n",
       "      <td>Redmi Note 10S</td>\n",
       "      <td>5785</td>\n",
       "    </tr>\n",
       "    <tr>\n",
       "      <th>20</th>\n",
       "      <td>iPhone 11 Pro</td>\n",
       "      <td>5710</td>\n",
       "    </tr>\n",
       "    <tr>\n",
       "      <th>21</th>\n",
       "      <td>iPhone 14</td>\n",
       "      <td>5614</td>\n",
       "    </tr>\n",
       "    <tr>\n",
       "      <th>22</th>\n",
       "      <td>Redmi Note 10 Pro</td>\n",
       "      <td>5584</td>\n",
       "    </tr>\n",
       "    <tr>\n",
       "      <th>23</th>\n",
       "      <td>Galaxy A12</td>\n",
       "      <td>5270</td>\n",
       "    </tr>\n",
       "    <tr>\n",
       "      <th>24</th>\n",
       "      <td>POCO X3 Pro</td>\n",
       "      <td>5085</td>\n",
       "    </tr>\n",
       "  </tbody>\n",
       "</table>\n",
       "</div>"
      ],
      "text/plain": [
       "         device_model  count\n",
       "0           iPhone 11  36474\n",
       "1           iPhone 13  16287\n",
       "2           iPhone 12  13303\n",
       "3           iPhone XR  13181\n",
       "4   iPhone 13 Pro Max  11849\n",
       "5       iPhone 13 Pro  11660\n",
       "6   iPhone 14 Pro Max  11579\n",
       "7       iPhone 14 Pro  10781\n",
       "8          iPhone16,2  10612\n",
       "9          iPhone16,1   8472\n",
       "10      iPhone 12 Pro   8274\n",
       "11  iPhone 12 Pro Max   8045\n",
       "12         iPhone15,3   7930\n",
       "13         iPhone15,2   7479\n",
       "14           iPhone 7   7460\n",
       "15           iPhone X   7049\n",
       "16         Galaxy A51   6887\n",
       "17   Redmi Note 8 Pro   6881\n",
       "18         Galaxy A50   6366\n",
       "19     Redmi Note 10S   5785\n",
       "20      iPhone 11 Pro   5710\n",
       "21          iPhone 14   5614\n",
       "22  Redmi Note 10 Pro   5584\n",
       "23         Galaxy A12   5270\n",
       "24        POCO X3 Pro   5085"
      ]
     },
     "execution_count": 39,
     "metadata": {},
     "output_type": "execute_result"
    }
   ],
   "source": [
    "import pyspark.sql.functions as F\n",
    "sdf.groupBy(\"device_model\").agg(F.countDistinct(\"profile_id\").alias(\"count\")).orderBy(F.col(\"count\").desc()).limit(25).toPandas()"
   ]
  },
  {
   "cell_type": "code",
   "execution_count": 57,
   "id": "8976f0f3-49d0-4f73-80d0-ee89da328d42",
   "metadata": {
    "tags": []
   },
   "outputs": [
    {
     "data": {
      "text/html": [
       "<div>\n",
       "<style scoped>\n",
       "    .dataframe tbody tr th:only-of-type {\n",
       "        vertical-align: middle;\n",
       "    }\n",
       "\n",
       "    .dataframe tbody tr th {\n",
       "        vertical-align: top;\n",
       "    }\n",
       "\n",
       "    .dataframe thead th {\n",
       "        text-align: right;\n",
       "    }\n",
       "</style>\n",
       "<table border=\"1\" class=\"dataframe\">\n",
       "  <thead>\n",
       "    <tr style=\"text-align: right;\">\n",
       "      <th></th>\n",
       "      <th>device_model</th>\n",
       "      <th>count</th>\n",
       "    </tr>\n",
       "  </thead>\n",
       "  <tbody>\n",
       "    <tr>\n",
       "      <th>0</th>\n",
       "      <td>iPhone 11</td>\n",
       "      <td>1721</td>\n",
       "    </tr>\n",
       "    <tr>\n",
       "      <th>1</th>\n",
       "      <td>iPhone 14 Pro Max</td>\n",
       "      <td>765</td>\n",
       "    </tr>\n",
       "    <tr>\n",
       "      <th>2</th>\n",
       "      <td>iPhone 13</td>\n",
       "      <td>716</td>\n",
       "    </tr>\n",
       "    <tr>\n",
       "      <th>3</th>\n",
       "      <td>iPhone 14 Pro</td>\n",
       "      <td>713</td>\n",
       "    </tr>\n",
       "    <tr>\n",
       "      <th>4</th>\n",
       "      <td>iPhone 13 Pro Max</td>\n",
       "      <td>674</td>\n",
       "    </tr>\n",
       "    <tr>\n",
       "      <th>5</th>\n",
       "      <td>iPhone XR</td>\n",
       "      <td>608</td>\n",
       "    </tr>\n",
       "    <tr>\n",
       "      <th>6</th>\n",
       "      <td>iPhone 13 Pro</td>\n",
       "      <td>599</td>\n",
       "    </tr>\n",
       "    <tr>\n",
       "      <th>7</th>\n",
       "      <td>iPhone 12</td>\n",
       "      <td>565</td>\n",
       "    </tr>\n",
       "    <tr>\n",
       "      <th>8</th>\n",
       "      <td>iPhone16,2</td>\n",
       "      <td>535</td>\n",
       "    </tr>\n",
       "    <tr>\n",
       "      <th>9</th>\n",
       "      <td>iPhone 12 Pro</td>\n",
       "      <td>465</td>\n",
       "    </tr>\n",
       "    <tr>\n",
       "      <th>10</th>\n",
       "      <td>iPhone 12 Pro Max</td>\n",
       "      <td>444</td>\n",
       "    </tr>\n",
       "    <tr>\n",
       "      <th>11</th>\n",
       "      <td>iPhone16,1</td>\n",
       "      <td>429</td>\n",
       "    </tr>\n",
       "    <tr>\n",
       "      <th>12</th>\n",
       "      <td>iPhone 7</td>\n",
       "      <td>371</td>\n",
       "    </tr>\n",
       "    <tr>\n",
       "      <th>13</th>\n",
       "      <td>iPhone 11 Pro</td>\n",
       "      <td>301</td>\n",
       "    </tr>\n",
       "    <tr>\n",
       "      <th>14</th>\n",
       "      <td>iPhone X</td>\n",
       "      <td>299</td>\n",
       "    </tr>\n",
       "    <tr>\n",
       "      <th>15</th>\n",
       "      <td>iPhone 14</td>\n",
       "      <td>263</td>\n",
       "    </tr>\n",
       "    <tr>\n",
       "      <th>16</th>\n",
       "      <td>iPhone 8</td>\n",
       "      <td>230</td>\n",
       "    </tr>\n",
       "    <tr>\n",
       "      <th>17</th>\n",
       "      <td>iPhone 11 Pro Max</td>\n",
       "      <td>219</td>\n",
       "    </tr>\n",
       "    <tr>\n",
       "      <th>18</th>\n",
       "      <td>iPhone SE 2nd Gen</td>\n",
       "      <td>192</td>\n",
       "    </tr>\n",
       "    <tr>\n",
       "      <th>19</th>\n",
       "      <td>iPhone 12 Mini</td>\n",
       "      <td>182</td>\n",
       "    </tr>\n",
       "    <tr>\n",
       "      <th>20</th>\n",
       "      <td>iPhone 8 Plus</td>\n",
       "      <td>173</td>\n",
       "    </tr>\n",
       "    <tr>\n",
       "      <th>21</th>\n",
       "      <td>iPhone XS</td>\n",
       "      <td>171</td>\n",
       "    </tr>\n",
       "    <tr>\n",
       "      <th>22</th>\n",
       "      <td>iPhone 7 Plus</td>\n",
       "      <td>156</td>\n",
       "    </tr>\n",
       "    <tr>\n",
       "      <th>23</th>\n",
       "      <td>iPhone XS Max</td>\n",
       "      <td>150</td>\n",
       "    </tr>\n",
       "    <tr>\n",
       "      <th>24</th>\n",
       "      <td>iPhone 13 Mini</td>\n",
       "      <td>111</td>\n",
       "    </tr>\n",
       "  </tbody>\n",
       "</table>\n",
       "</div>"
      ],
      "text/plain": [
       "         device_model  count\n",
       "0           iPhone 11   1721\n",
       "1   iPhone 14 Pro Max    765\n",
       "2           iPhone 13    716\n",
       "3       iPhone 14 Pro    713\n",
       "4   iPhone 13 Pro Max    674\n",
       "5           iPhone XR    608\n",
       "6       iPhone 13 Pro    599\n",
       "7           iPhone 12    565\n",
       "8          iPhone16,2    535\n",
       "9       iPhone 12 Pro    465\n",
       "10  iPhone 12 Pro Max    444\n",
       "11         iPhone16,1    429\n",
       "12           iPhone 7    371\n",
       "13      iPhone 11 Pro    301\n",
       "14           iPhone X    299\n",
       "15          iPhone 14    263\n",
       "16           iPhone 8    230\n",
       "17  iPhone 11 Pro Max    219\n",
       "18  iPhone SE 2nd Gen    192\n",
       "19     iPhone 12 Mini    182\n",
       "20      iPhone 8 Plus    173\n",
       "21          iPhone XS    171\n",
       "22      iPhone 7 Plus    156\n",
       "23      iPhone XS Max    150\n",
       "24     iPhone 13 Mini    111"
      ]
     },
     "execution_count": 57,
     "metadata": {},
     "output_type": "execute_result"
    }
   ],
   "source": [
    "import pyspark.sql.functions as F\n",
    "sdf_with_user_payments.groupBy(\"device_model\").agg(F.countDistinct(\"profile_id\").alias(\"count\")).orderBy(F.col(\"count\").desc()).limit(25).toPandas()"
   ]
  },
  {
   "cell_type": "code",
   "execution_count": 40,
   "id": "2f1146b4-fbaf-4237-a69c-fbd1d411e5a6",
   "metadata": {
    "tags": []
   },
   "outputs": [
    {
     "data": {
      "image/png": "[encoded data removed]",
      "text/plain": [
       "<Figure size 432x288 with 1 Axes>"
      ]
     },
     "metadata": {
      "needs_background": "light"
     },
     "output_type": "display_data"
    }
   ],
   "source": [
    "import pandas as pd\n",
    "import matplotlib.pyplot as plt\n",
    "\n",
    "# Создайте столбчатую диаграмму уникальных профилей\n",
    "df = sdf.groupBy(\"device_model\").agg(F.countDistinct(\"profile_id\").alias(\"unique_profiles\"))\n",
    "df_sorted = df.sort(\"unique_profiles\", ascending=False).limit(11).dropna().toPandas()\n",
    "df_sorted.plot.bar(x=\"device_model\", y=\"unique_profiles\", color='lightcoral')\n",
    "\n",
    "# Добавьте подписи к столбцам\n",
    "for bar in plt.gca().patches:\n",
    "    plt.gca().annotate(format(bar.get_height(), '.0f'),\n",
    "                     (bar.get_x() + bar.get_width() / 2,\n",
    "                      bar.get_height()), ha='center', va='center')\n",
    "\n",
    "# Настройте диаграмму\n",
    "plt.xlabel(\"Device model\")\n",
    "plt.ylabel(\"Number of Unique Profiles\")\n",
    "plt.title(\"Distribution of Unique Profiles by device model\")\n",
    "plt.xticks(rotation=45)\n",
    "plt.tight_layout()\n",
    "plt.show()"
   ]
  },
  {
   "cell_type": "code",
   "execution_count": 60,
   "id": "339b2851-502a-4521-9cf2-1e3ff22d5435",
   "metadata": {
    "tags": []
   },
   "outputs": [
    {
     "data": {
      "image/png": "[encoded data removed]",
      "text/plain": [
       "<Figure size 432x288 with 1 Axes>"
      ]
     },
     "metadata": {
      "needs_background": "light"
     },
     "output_type": "display_data"
    }
   ],
   "source": [
    "# Create a bar chart of the unique profile counts\n",
    "sdf_with_user_payments.groupBy(\"device_model\").agg(F.countDistinct(\"profile_id\").alias(\"unique_profiles\")).sort(\"unique_profiles\", ascending=False).limit(11).toPandas().plot.bar(x=\"device_model\", y=\"unique_profiles\", color='lightcoral')\n",
    "plt.xlabel(\"device model\")\n",
    "plt.ylabel(\"Number of Unique Profiles\")\n",
    "plt.title(\"Distribution of Unique Profiles by connection type\")\n",
    "plt.xticks(rotation=45)\n",
    "plt.tight_layout()\n",
    "plt.show()"
   ]
  },
  {
   "cell_type": "markdown",
   "id": "b64f257b-405e-4a0d-9a56-1b68d53a979c",
   "metadata": {},
   "source": [
    "## Analysis by device type "
   ]
  },
  {
   "cell_type": "code",
   "execution_count": 41,
   "id": "7b78817c-0671-4f89-9409-c54f796cabbc",
   "metadata": {
    "tags": []
   },
   "outputs": [
    {
     "name": "stdout",
     "output_type": "stream",
     "text": [
      "2\n"
     ]
    }
   ],
   "source": [
    "# Предполагается, что df - это DataFrame, содержащий столбец 'city'.\n",
    "unique_ct = sdf.select(\"device_type\").distinct().count()\n",
    "print(unique_ct)\n"
   ]
  },
  {
   "cell_type": "code",
   "execution_count": 42,
   "id": "947605b6-e0d0-4013-8c7e-006557d6b4ea",
   "metadata": {
    "tags": []
   },
   "outputs": [
    {
     "data": {
      "text/html": [
       "<div>\n",
       "<style scoped>\n",
       "    .dataframe tbody tr th:only-of-type {\n",
       "        vertical-align: middle;\n",
       "    }\n",
       "\n",
       "    .dataframe tbody tr th {\n",
       "        vertical-align: top;\n",
       "    }\n",
       "\n",
       "    .dataframe thead th {\n",
       "        text-align: right;\n",
       "    }\n",
       "</style>\n",
       "<table border=\"1\" class=\"dataframe\">\n",
       "  <thead>\n",
       "    <tr style=\"text-align: right;\">\n",
       "      <th></th>\n",
       "      <th>device_type</th>\n",
       "      <th>count</th>\n",
       "    </tr>\n",
       "  </thead>\n",
       "  <tbody>\n",
       "    <tr>\n",
       "      <th>0</th>\n",
       "      <td>phone</td>\n",
       "      <td>612785</td>\n",
       "    </tr>\n",
       "    <tr>\n",
       "      <th>1</th>\n",
       "      <td>tablet</td>\n",
       "      <td>5529</td>\n",
       "    </tr>\n",
       "  </tbody>\n",
       "</table>\n",
       "</div>"
      ],
      "text/plain": [
       "  device_type   count\n",
       "0       phone  612785\n",
       "1      tablet    5529"
      ]
     },
     "execution_count": 42,
     "metadata": {},
     "output_type": "execute_result"
    }
   ],
   "source": [
    "import pyspark.sql.functions as F\n",
    "sdf.groupBy(\"device_type\").agg(F.countDistinct(\"profile_id\").alias(\"count\")).orderBy(F.col(\"count\").desc()).toPandas()"
   ]
  },
  {
   "cell_type": "code",
   "execution_count": 61,
   "id": "dcd03b1a-24db-482e-b37a-9afa566122f5",
   "metadata": {
    "tags": []
   },
   "outputs": [
    {
     "data": {
      "text/html": [
       "<div>\n",
       "<style scoped>\n",
       "    .dataframe tbody tr th:only-of-type {\n",
       "        vertical-align: middle;\n",
       "    }\n",
       "\n",
       "    .dataframe tbody tr th {\n",
       "        vertical-align: top;\n",
       "    }\n",
       "\n",
       "    .dataframe thead th {\n",
       "        text-align: right;\n",
       "    }\n",
       "</style>\n",
       "<table border=\"1\" class=\"dataframe\">\n",
       "  <thead>\n",
       "    <tr style=\"text-align: right;\">\n",
       "      <th></th>\n",
       "      <th>device_type</th>\n",
       "      <th>count</th>\n",
       "    </tr>\n",
       "  </thead>\n",
       "  <tbody>\n",
       "    <tr>\n",
       "      <th>0</th>\n",
       "      <td>phone</td>\n",
       "      <td>11533</td>\n",
       "    </tr>\n",
       "    <tr>\n",
       "      <th>1</th>\n",
       "      <td>tablet</td>\n",
       "      <td>37</td>\n",
       "    </tr>\n",
       "  </tbody>\n",
       "</table>\n",
       "</div>"
      ],
      "text/plain": [
       "  device_type  count\n",
       "0       phone  11533\n",
       "1      tablet     37"
      ]
     },
     "execution_count": 61,
     "metadata": {},
     "output_type": "execute_result"
    }
   ],
   "source": [
    "import pyspark.sql.functions as F\n",
    "sdf_with_user_payments.groupBy(\"device_type\").agg(F.countDistinct(\"profile_id\").alias(\"count\")).orderBy(F.col(\"count\").desc()).toPandas()"
   ]
  },
  {
   "cell_type": "code",
   "execution_count": 43,
   "id": "34bf0695-366c-4b3b-98ed-92ba2fee09eb",
   "metadata": {
    "tags": []
   },
   "outputs": [
    {
     "data": {
      "image/png": "[encoded data removed]",
      "text/plain": [
       "<Figure size 432x288 with 1 Axes>"
      ]
     },
     "metadata": {},
     "output_type": "display_data"
    }
   ],
   "source": [
    "import pandas as pd\n",
    "import matplotlib.pyplot as plt\n",
    "\n",
    "# Create a DataFrame with the unique profile counts\n",
    "df = sdf.groupBy(\"device_type\").agg(F.countDistinct(\"profile_id\").alias(\"unique_profiles\")).sort(\"unique_profiles\", ascending=False).toPandas()\n",
    "\n",
    "# Create a pie chart\n",
    "df.plot.pie(x=\"device_type\", y=\"unique_profiles\", autopct='%1.1f%%', colors=['red', 'green'], labels=['phone', 'tablet'])\n",
    "\n",
    "# Add labels and title\n",
    "plt.xlabel(\"Device type\")\n",
    "plt.ylabel(\"Number of Unique Profiles\")\n",
    "plt.title(\"Distribution of Unique Profiles by device type\")\n",
    "\n",
    "# Show the plot\n",
    "plt.show()"
   ]
  },
  {
   "cell_type": "markdown",
   "id": "6c78d93a-4f88-4d23-afb4-f555a72c9493",
   "metadata": {
    "tags": []
   },
   "source": [
    "## Analysis by device os name"
   ]
  },
  {
   "cell_type": "code",
   "execution_count": 44,
   "id": "ea26c72d-c5d1-44f5-8ec8-3082976fb1a6",
   "metadata": {
    "tags": []
   },
   "outputs": [
    {
     "name": "stdout",
     "output_type": "stream",
     "text": [
      "2\n"
     ]
    }
   ],
   "source": [
    "# Предполагается, что df - это DataFrame, содержащий столбец 'city'.\n",
    "unique_ct = sdf.select(\"os_name\").distinct().count()\n",
    "print(unique_ct)\n"
   ]
  },
  {
   "cell_type": "code",
   "execution_count": 45,
   "id": "529f3232-7c85-4d23-93fc-63161e013948",
   "metadata": {
    "tags": []
   },
   "outputs": [
    {
     "data": {
      "text/html": [
       "<div>\n",
       "<style scoped>\n",
       "    .dataframe tbody tr th:only-of-type {\n",
       "        vertical-align: middle;\n",
       "    }\n",
       "\n",
       "    .dataframe tbody tr th {\n",
       "        vertical-align: top;\n",
       "    }\n",
       "\n",
       "    .dataframe thead th {\n",
       "        text-align: right;\n",
       "    }\n",
       "</style>\n",
       "<table border=\"1\" class=\"dataframe\">\n",
       "  <thead>\n",
       "    <tr style=\"text-align: right;\">\n",
       "      <th></th>\n",
       "      <th>os_name</th>\n",
       "      <th>count</th>\n",
       "    </tr>\n",
       "  </thead>\n",
       "  <tbody>\n",
       "    <tr>\n",
       "      <th>0</th>\n",
       "      <td>android</td>\n",
       "      <td>383220</td>\n",
       "    </tr>\n",
       "    <tr>\n",
       "      <th>1</th>\n",
       "      <td>ios</td>\n",
       "      <td>234906</td>\n",
       "    </tr>\n",
       "  </tbody>\n",
       "</table>\n",
       "</div>"
      ],
      "text/plain": [
       "   os_name   count\n",
       "0  android  383220\n",
       "1      ios  234906"
      ]
     },
     "execution_count": 45,
     "metadata": {},
     "output_type": "execute_result"
    }
   ],
   "source": [
    "import pyspark.sql.functions as F\n",
    "sdf.groupBy(\"os_name\").agg(F.countDistinct(\"profile_id\").alias(\"count\")).orderBy(F.col(\"count\").desc()).toPandas()"
   ]
  },
  {
   "cell_type": "code",
   "execution_count": 46,
   "id": "16de2776-7d84-4d62-b01e-3a369a34daaf",
   "metadata": {
    "tags": []
   },
   "outputs": [
    {
     "data": {
      "image/png": "[encoded data removed]",
      "text/plain": [
       "<Figure size 432x288 with 1 Axes>"
      ]
     },
     "metadata": {},
     "output_type": "display_data"
    }
   ],
   "source": [
    "import pandas as pd\n",
    "import matplotlib.pyplot as plt\n",
    "\n",
    "# Create a DataFrame with the unique profile counts\n",
    "df = sdf.groupBy(\"os_name\").agg(F.countDistinct(\"profile_id\").alias(\"unique_profiles\")).sort(\"unique_profiles\", ascending=False).toPandas()\n",
    "\n",
    "# Create a pie chart\n",
    "df.plot.pie(x=\"os_name\", y=\"unique_profiles\", autopct='%1.1f%%', colors=['red', 'blue'], labels=['android', 'ios'])\n",
    "\n",
    "# Add labels and title\n",
    "plt.xlabel(\"Device os\")\n",
    "plt.ylabel(\"Number of Unique Profiles\")\n",
    "plt.title(\"Distribution of Unique Profiles by device os\")\n",
    "\n",
    "# Show the plot\n",
    "plt.show()"
   ]
  },
  {
   "cell_type": "markdown",
   "id": "76320ec4-1ba6-43f2-8595-c6c6141987bb",
   "metadata": {},
   "source": [
    "## Analysis by operator_name"
   ]
  },
  {
   "cell_type": "code",
   "execution_count": 47,
   "id": "0dd9a5e5-62c3-4177-99f1-235db8002823",
   "metadata": {
    "tags": []
   },
   "outputs": [
    {
     "name": "stdout",
     "output_type": "stream",
     "text": [
      "1205\n"
     ]
    }
   ],
   "source": [
    "# Предполагается, что df - это DataFrame, содержащий столбец 'city'.\n",
    "unique_ct = sdf.select(\"operator_name\").distinct().count()\n",
    "print(unique_ct)\n"
   ]
  },
  {
   "cell_type": "code",
   "execution_count": 48,
   "id": "ad226569-1b6d-4020-a0e1-26f0c694f317",
   "metadata": {
    "tags": []
   },
   "outputs": [
    {
     "data": {
      "text/html": [
       "<div>\n",
       "<style scoped>\n",
       "    .dataframe tbody tr th:only-of-type {\n",
       "        vertical-align: middle;\n",
       "    }\n",
       "\n",
       "    .dataframe tbody tr th {\n",
       "        vertical-align: top;\n",
       "    }\n",
       "\n",
       "    .dataframe thead th {\n",
       "        text-align: right;\n",
       "    }\n",
       "</style>\n",
       "<table border=\"1\" class=\"dataframe\">\n",
       "  <thead>\n",
       "    <tr style=\"text-align: right;\">\n",
       "      <th></th>\n",
       "      <th>operator_name</th>\n",
       "      <th>count</th>\n",
       "    </tr>\n",
       "  </thead>\n",
       "  <tbody>\n",
       "    <tr>\n",
       "      <th>0</th>\n",
       "      <td>None</td>\n",
       "      <td>258940</td>\n",
       "    </tr>\n",
       "    <tr>\n",
       "      <th>1</th>\n",
       "      <td>MTS RUS</td>\n",
       "      <td>109382</td>\n",
       "    </tr>\n",
       "    <tr>\n",
       "      <th>2</th>\n",
       "      <td>Tele2</td>\n",
       "      <td>67277</td>\n",
       "    </tr>\n",
       "    <tr>\n",
       "      <th>3</th>\n",
       "      <td>Beeline</td>\n",
       "      <td>62542</td>\n",
       "    </tr>\n",
       "    <tr>\n",
       "      <th>4</th>\n",
       "      <td>MegaFon</td>\n",
       "      <td>60968</td>\n",
       "    </tr>\n",
       "    <tr>\n",
       "      <th>5</th>\n",
       "      <td>beeline</td>\n",
       "      <td>28416</td>\n",
       "    </tr>\n",
       "    <tr>\n",
       "      <th>6</th>\n",
       "      <td>MegaFon #1</td>\n",
       "      <td>22717</td>\n",
       "    </tr>\n",
       "    <tr>\n",
       "      <th>7</th>\n",
       "      <td>МТС</td>\n",
       "      <td>19930</td>\n",
       "    </tr>\n",
       "    <tr>\n",
       "      <th>8</th>\n",
       "      <td>YOTA</td>\n",
       "      <td>15201</td>\n",
       "    </tr>\n",
       "    <tr>\n",
       "      <th>9</th>\n",
       "      <td>MegaFon pre-5G</td>\n",
       "      <td>4973</td>\n",
       "    </tr>\n",
       "    <tr>\n",
       "      <th>10</th>\n",
       "      <td>MTS</td>\n",
       "      <td>4373</td>\n",
       "    </tr>\n",
       "    <tr>\n",
       "      <th>11</th>\n",
       "      <td>ROSTELECOM</td>\n",
       "      <td>3674</td>\n",
       "    </tr>\n",
       "    <tr>\n",
       "      <th>12</th>\n",
       "      <td>Tinkoff</td>\n",
       "      <td>3616</td>\n",
       "    </tr>\n",
       "    <tr>\n",
       "      <th>13</th>\n",
       "      <td>Tele2You</td>\n",
       "      <td>3562</td>\n",
       "    </tr>\n",
       "    <tr>\n",
       "      <th>14</th>\n",
       "      <td>VOLNA</td>\n",
       "      <td>3456</td>\n",
       "    </tr>\n",
       "  </tbody>\n",
       "</table>\n",
       "</div>"
      ],
      "text/plain": [
       "     operator_name   count\n",
       "0             None  258940\n",
       "1          MTS RUS  109382\n",
       "2            Tele2   67277\n",
       "3          Beeline   62542\n",
       "4          MegaFon   60968\n",
       "5          beeline   28416\n",
       "6       MegaFon #1   22717\n",
       "7              МТС   19930\n",
       "8             YOTA   15201\n",
       "9   MegaFon pre-5G    4973\n",
       "10             MTS    4373\n",
       "11      ROSTELECOM    3674\n",
       "12         Tinkoff    3616\n",
       "13        Tele2You    3562\n",
       "14           VOLNA    3456"
      ]
     },
     "execution_count": 48,
     "metadata": {},
     "output_type": "execute_result"
    }
   ],
   "source": [
    "import pyspark.sql.functions as F\n",
    "sdf.groupBy(\"operator_name\").agg(F.countDistinct(\"profile_id\").alias(\"count\")).orderBy(F.col(\"count\").desc()).limit(15).toPandas()"
   ]
  },
  {
   "cell_type": "code",
   "execution_count": 62,
   "id": "b10bd578-4638-4125-b97e-2df71d405e8e",
   "metadata": {
    "tags": []
   },
   "outputs": [
    {
     "data": {
      "text/html": [
       "<div>\n",
       "<style scoped>\n",
       "    .dataframe tbody tr th:only-of-type {\n",
       "        vertical-align: middle;\n",
       "    }\n",
       "\n",
       "    .dataframe tbody tr th {\n",
       "        vertical-align: top;\n",
       "    }\n",
       "\n",
       "    .dataframe thead th {\n",
       "        text-align: right;\n",
       "    }\n",
       "</style>\n",
       "<table border=\"1\" class=\"dataframe\">\n",
       "  <thead>\n",
       "    <tr style=\"text-align: right;\">\n",
       "      <th></th>\n",
       "      <th>operator_name</th>\n",
       "      <th>count</th>\n",
       "    </tr>\n",
       "  </thead>\n",
       "  <tbody>\n",
       "    <tr>\n",
       "      <th>0</th>\n",
       "      <td>None</td>\n",
       "      <td>11542</td>\n",
       "    </tr>\n",
       "    <tr>\n",
       "      <th>1</th>\n",
       "      <td>Mobile TeleSystems</td>\n",
       "      <td>10</td>\n",
       "    </tr>\n",
       "    <tr>\n",
       "      <th>2</th>\n",
       "      <td>MegaFon</td>\n",
       "      <td>9</td>\n",
       "    </tr>\n",
       "    <tr>\n",
       "      <th>3</th>\n",
       "      <td>Beeline</td>\n",
       "      <td>4</td>\n",
       "    </tr>\n",
       "    <tr>\n",
       "      <th>4</th>\n",
       "      <td>Tele2</td>\n",
       "      <td>2</td>\n",
       "    </tr>\n",
       "    <tr>\n",
       "      <th>5</th>\n",
       "      <td>Carrier</td>\n",
       "      <td>2</td>\n",
       "    </tr>\n",
       "    <tr>\n",
       "      <th>6</th>\n",
       "      <td>YOTA</td>\n",
       "      <td>1</td>\n",
       "    </tr>\n",
       "  </tbody>\n",
       "</table>\n",
       "</div>"
      ],
      "text/plain": [
       "        operator_name  count\n",
       "0                None  11542\n",
       "1  Mobile TeleSystems     10\n",
       "2             MegaFon      9\n",
       "3             Beeline      4\n",
       "4               Tele2      2\n",
       "5             Carrier      2\n",
       "6                YOTA      1"
      ]
     },
     "execution_count": 62,
     "metadata": {},
     "output_type": "execute_result"
    }
   ],
   "source": [
    "import pyspark.sql.functions as F\n",
    "sdf_with_user_payments.groupBy(\"operator_name\").agg(F.countDistinct(\"profile_id\").alias(\"count\")).orderBy(F.col(\"count\").desc()).limit(15).toPandas()"
   ]
  },
  {
   "cell_type": "code",
   "execution_count": 49,
   "id": "e483d3c8-11e8-48a3-88a4-1fe65df2f5d7",
   "metadata": {
    "tags": []
   },
   "outputs": [
    {
     "data": {
      "text/html": [
       "<div>\n",
       "<style scoped>\n",
       "    .dataframe tbody tr th:only-of-type {\n",
       "        vertical-align: middle;\n",
       "    }\n",
       "\n",
       "    .dataframe tbody tr th {\n",
       "        vertical-align: top;\n",
       "    }\n",
       "\n",
       "    .dataframe thead th {\n",
       "        text-align: right;\n",
       "    }\n",
       "</style>\n",
       "<table border=\"1\" class=\"dataframe\">\n",
       "  <thead>\n",
       "    <tr style=\"text-align: right;\">\n",
       "      <th></th>\n",
       "      <th>operator_name</th>\n",
       "      <th>count</th>\n",
       "    </tr>\n",
       "  </thead>\n",
       "  <tbody>\n",
       "    <tr>\n",
       "      <th>0</th>\n",
       "      <td>Ooredoo TN</td>\n",
       "      <td>0</td>\n",
       "    </tr>\n",
       "    <tr>\n",
       "      <th>1</th>\n",
       "      <td>DEFACE</td>\n",
       "      <td>0</td>\n",
       "    </tr>\n",
       "    <tr>\n",
       "      <th>2</th>\n",
       "      <td>BL4CKOV</td>\n",
       "      <td>0</td>\n",
       "    </tr>\n",
       "    <tr>\n",
       "      <th>3</th>\n",
       "      <td>Ikrom7</td>\n",
       "      <td>0</td>\n",
       "    </tr>\n",
       "    <tr>\n",
       "      <th>4</th>\n",
       "      <td>CMAPTC-GSM</td>\n",
       "      <td>0</td>\n",
       "    </tr>\n",
       "    <tr>\n",
       "      <th>5</th>\n",
       "      <td>SVK 777</td>\n",
       "      <td>0</td>\n",
       "    </tr>\n",
       "    <tr>\n",
       "      <th>6</th>\n",
       "      <td>Izhevskiy</td>\n",
       "      <td>0</td>\n",
       "    </tr>\n",
       "    <tr>\n",
       "      <th>7</th>\n",
       "      <td>Movistar</td>\n",
       "      <td>0</td>\n",
       "    </tr>\n",
       "    <tr>\n",
       "      <th>8</th>\n",
       "      <td>Zaebisa</td>\n",
       "      <td>0</td>\n",
       "    </tr>\n",
       "    <tr>\n",
       "      <th>9</th>\n",
       "      <td>4emaKinG</td>\n",
       "      <td>0</td>\n",
       "    </tr>\n",
       "    <tr>\n",
       "      <th>10</th>\n",
       "      <td>WARMTEC</td>\n",
       "      <td>0</td>\n",
       "    </tr>\n",
       "    <tr>\n",
       "      <th>11</th>\n",
       "      <td>MegaCom | Tele2</td>\n",
       "      <td>0</td>\n",
       "    </tr>\n",
       "    <tr>\n",
       "      <th>12</th>\n",
       "      <td>DmitriyGal</td>\n",
       "      <td>0</td>\n",
       "    </tr>\n",
       "    <tr>\n",
       "      <th>13</th>\n",
       "      <td>Sharfik Network</td>\n",
       "      <td>0</td>\n",
       "    </tr>\n",
       "    <tr>\n",
       "      <th>14</th>\n",
       "      <td>SUPER</td>\n",
       "      <td>0</td>\n",
       "    </tr>\n",
       "  </tbody>\n",
       "</table>\n",
       "</div>"
      ],
      "text/plain": [
       "      operator_name  count\n",
       "0        Ooredoo TN      0\n",
       "1            DEFACE      0\n",
       "2           BL4CKOV      0\n",
       "3            Ikrom7      0\n",
       "4        CMAPTC-GSM      0\n",
       "5           SVK 777      0\n",
       "6         Izhevskiy      0\n",
       "7          Movistar      0\n",
       "8           Zaebisa      0\n",
       "9          4emaKinG      0\n",
       "10          WARMTEC      0\n",
       "11  MegaCom | Tele2      0\n",
       "12       DmitriyGal      0\n",
       "13  Sharfik Network      0\n",
       "14            SUPER      0"
      ]
     },
     "execution_count": 49,
     "metadata": {},
     "output_type": "execute_result"
    }
   ],
   "source": [
    "import pyspark.sql.functions as F\n",
    "sdf.groupBy(\"operator_name\").agg(F.countDistinct(\"profile_id\").alias(\"count\")).orderBy(F.col(\"count\").asc()).limit(15).toPandas()"
   ]
  },
  {
   "cell_type": "code",
   "execution_count": 50,
   "id": "10c8a31c-2a74-4b9d-b6b2-8956f072764d",
   "metadata": {
    "tags": []
   },
   "outputs": [
    {
     "data": {
      "image/png": "[encoded data removed]",
      "text/plain": [
       "<Figure size 432x288 with 1 Axes>"
      ]
     },
     "metadata": {
      "needs_background": "light"
     },
     "output_type": "display_data"
    }
   ],
   "source": [
    "# Create a bar chart of the unique profile counts\n",
    "sdf.groupBy(\"operator_name\").agg(F.countDistinct(\"profile_id\").alias(\"unique_profiles\")).sort(\"unique_profiles\", ascending=False).limit(10).toPandas().plot.bar(x=\"operator_name\", y=\"unique_profiles\")\n",
    "plt.xlabel(\"Operator name\")\n",
    "plt.ylabel(\"Number of Unique Profiles\")\n",
    "plt.title(\"Distribution of Unique Profiles by operator name\")\n",
    "plt.xticks(rotation=45)\n",
    "plt.tight_layout()\n",
    "plt.show()"
   ]
  },
  {
   "cell_type": "code",
   "execution_count": 51,
   "id": "12d291c7-8d1a-4d56-b481-35c971e8792a",
   "metadata": {
    "tags": []
   },
   "outputs": [
    {
     "data": {
      "image/png": "[encoded data removed]",
      "text/plain": [
       "<Figure size 432x288 with 1 Axes>"
      ]
     },
     "metadata": {
      "needs_background": "light"
     },
     "output_type": "display_data"
    }
   ],
   "source": [
    "import pandas as pd\n",
    "import matplotlib.pyplot as plt\n",
    "\n",
    "# Создайте столбчатую диаграмму уникальных профилей\n",
    "df = sdf.groupBy(\"operator_name\").agg(F.countDistinct(\"profile_id\").alias(\"unique_profiles\"))\n",
    "df_sorted = df.sort(\"unique_profiles\", ascending=False).limit(5).dropna().toPandas()\n",
    "df_sorted.plot.bar(x=\"operator_name\", y=\"unique_profiles\", color='lightcoral')\n",
    "\n",
    "# Добавьте подписи к столбцам\n",
    "for bar in plt.gca().patches:\n",
    "    plt.gca().annotate(format(bar.get_height(), '.0f'),\n",
    "                     (bar.get_x() + bar.get_width() / 2,\n",
    "                      bar.get_height()), ha='center', va='center')\n",
    "\n",
    "# Настройте диаграмму\n",
    "plt.xlabel(\"Operator name\")\n",
    "plt.ylabel(\"Number of Unique Profiles\")\n",
    "plt.title(\"Distribution of Unique Profiles by operator name\")\n",
    "plt.xticks(rotation=45)\n",
    "plt.tight_layout()\n",
    "plt.show()"
   ]
  },
  {
   "cell_type": "code",
   "execution_count": null,
   "id": "e07f745d-65f7-4e4d-8606-067b9af93d40",
   "metadata": {},
   "outputs": [],
   "source": []
  },
  {
   "cell_type": "code",
   "execution_count": null,
   "id": "4600c155-79a2-410e-a30f-d6a2051a52ff",
   "metadata": {},
   "outputs": [],
   "source": []
  },
  {
   "cell_type": "code",
   "execution_count": null,
   "id": "f4018caf-c10e-4bf8-a99f-0ae2a8586034",
   "metadata": {},
   "outputs": [],
   "source": []
  },
  {
   "cell_type": "code",
   "execution_count": null,
   "id": "220e529e-8771-49d6-89d0-2aeb45d1f8e6",
   "metadata": {},
   "outputs": [],
   "source": []
  },
  {
   "cell_type": "code",
   "execution_count": null,
   "id": "d6359158-5704-4050-b48c-fb2de1004e2d",
   "metadata": {},
   "outputs": [],
   "source": []
  },
  {
   "cell_type": "code",
   "execution_count": null,
   "id": "be77046e-1ff0-4552-9e99-ca788be00d72",
   "metadata": {},
   "outputs": [],
   "source": []
  },
  {
   "cell_type": "code",
   "execution_count": null,
   "id": "88c8057b-d711-41fe-a8dc-114429dc889b",
   "metadata": {},
   "outputs": [],
   "source": []
  },
  {
   "cell_type": "code",
   "execution_count": null,
   "id": "ffc33f8d-b252-40b2-9279-eb7987ed4b6d",
   "metadata": {},
   "outputs": [],
   "source": []
  },
  {
   "cell_type": "code",
   "execution_count": null,
   "id": "254bf26d-05fd-4204-a1b5-60a125a628be",
   "metadata": {},
   "outputs": [],
   "source": []
  },
  {
   "cell_type": "code",
   "execution_count": null,
   "id": "95bce783-ce65-43dd-ae71-87499bcfbe72",
   "metadata": {},
   "outputs": [],
   "source": []
  },
  {
   "cell_type": "code",
   "execution_count": null,
   "id": "a953c8cd-2f58-4c78-a4d1-f399d048b23e",
   "metadata": {},
   "outputs": [],
   "source": []
  },
  {
   "cell_type": "code",
   "execution_count": null,
   "id": "ac4e3bbc-57a3-4239-be1c-b15454e07055",
   "metadata": {},
   "outputs": [],
   "source": []
  },
  {
   "cell_type": "code",
   "execution_count": null,
   "id": "d7404a36-d949-4bfd-9314-0a97f1694dfd",
   "metadata": {},
   "outputs": [],
   "source": []
  },
  {
   "cell_type": "code",
   "execution_count": null,
   "id": "12a10734-8789-4f3e-9f31-a07ccb01154f",
   "metadata": {
    "tags": []
   },
   "outputs": [],
   "source": [
    "# Count of users who paid and did not pay in March\n",
    "# Keywords that indicate a payment\n",
    "payment_keywords = [\"завершили оплату\", \"платёж принят\"]\n",
    "\n",
    "# Filter users based on payment keywords\n",
    "users_paid_totall = sdf.filter(\n",
    "    F.col('event_name_modified').contains(payment_keywords[0]) | \n",
    "    F.col('event_name_modified').contains(payment_keywords[1]) \n",
    ")\n",
    "\n",
    "users_paid_totall.limit(1).toPandas()\n"
   ]
  },
  {
   "cell_type": "code",
   "execution_count": 53,
   "id": "5ff0cae6-c932-4606-86f2-53563e4c7b98",
   "metadata": {
    "tags": []
   },
   "outputs": [
    {
     "name": "stdout",
     "output_type": "stream",
     "text": [
      "Number of users who paid in all data based on keywords: 28452\n"
     ]
    }
   ],
   "source": [
    "# Count of users who match the payment keywords\n",
    "paid_count_total = users_paid_totall.select('profile_id').distinct().count()\n",
    "\n",
    "print(f\"Number of users who paid in all data based on keywords: {paid_count_total}\")"
   ]
  },
  {
   "cell_type": "code",
   "execution_count": null,
   "id": "98058dc4-4861-4e1d-b276-b940ccfb3c60",
   "metadata": {
    "tags": []
   },
   "outputs": [],
   "source": []
  },
  {
   "cell_type": "code",
   "execution_count": null,
   "id": "626227e5-d459-432b-bf8d-229ebfdb0710",
   "metadata": {},
   "outputs": [],
   "source": []
  },
  {
   "cell_type": "code",
   "execution_count": 54,
   "id": "781bef6d-2c3a-4ff2-a8cd-5d07035ad529",
   "metadata": {
    "tags": []
   },
   "outputs": [],
   "source": [
    "import seaborn as sns\n",
    "\n",
    "# Подсчет количества оплат для каждого пользователя\n",
    "payment_counts = sdf.filter(\n",
    "    (F.col('event_name').like('%{}%'.format(payment_keywords[0])) |\n",
    "     F.col('event_name').like('%{}%'.format(payment_keywords[1])))\n",
    ").groupBy('profile_id').count()\n",
    "\n",
    "# Преобразование результатов в Pandas DataFrame для удобства работы с данными\n",
    "payment_counts_df = payment_counts.toPandas()"
   ]
  },
  {
   "cell_type": "code",
   "execution_count": null,
   "id": "9e56185c-1c11-4e65-8cad-f7674fc2a802",
   "metadata": {
    "tags": []
   },
   "outputs": [],
   "source": []
  },
  {
   "cell_type": "code",
   "execution_count": 55,
   "id": "32854bb6-616a-4173-a8a7-01a597334ca2",
   "metadata": {
    "tags": []
   },
   "outputs": [
    {
     "data": {
      "text/plain": [
       "618127"
      ]
     },
     "execution_count": 55,
     "metadata": {},
     "output_type": "execute_result"
    }
   ],
   "source": [
    "sdf.select('profile_id').distinct().count()"
   ]
  },
  {
   "cell_type": "code",
   "execution_count": 56,
   "id": "fad30699-33dc-4a51-9db4-bcd1ef2b18f2",
   "metadata": {
    "tags": []
   },
   "outputs": [
    {
     "data": {
      "text/plain": [
       "632294"
      ]
     },
     "execution_count": 56,
     "metadata": {},
     "output_type": "execute_result"
    }
   ],
   "source": [
    "sdf.select('appmetrica_device_id').distinct().count()"
   ]
  },
  {
   "cell_type": "code",
   "execution_count": 57,
   "id": "71727a5b-9406-4f62-b3f5-0f33a279c5f3",
   "metadata": {
    "tags": []
   },
   "outputs": [
    {
     "data": {
      "text/plain": [
       "0"
      ]
     },
     "execution_count": 57,
     "metadata": {},
     "output_type": "execute_result"
    }
   ],
   "source": [
    "#checking that all event name columns have full data \n",
    "\n",
    "sdf.filter(F.col('event_name').isNull()).count()"
   ]
  },
  {
   "cell_type": "code",
   "execution_count": 58,
   "id": "e4c2ba52-9e2f-4a25-8535-3b86cdf3c2dc",
   "metadata": {
    "tags": []
   },
   "outputs": [
    {
     "data": {
      "text/plain": [
       "458957"
      ]
     },
     "execution_count": 58,
     "metadata": {},
     "output_type": "execute_result"
    }
   ],
   "source": [
    "#checking that all profile_id columns have full data \n",
    "\n",
    "sdf.filter(F.col('profile_id').isNull()).count()"
   ]
  },
  {
   "cell_type": "code",
   "execution_count": 59,
   "id": "fe63ee91-e28d-4161-8b08-4d5516812f54",
   "metadata": {
    "tags": []
   },
   "outputs": [],
   "source": [
    "sdf = sdf.filter(\"profile_id IS NOT NULL\")\n"
   ]
  },
  {
   "cell_type": "code",
   "execution_count": null,
   "id": "1f0acfc9-a592-484c-a0f0-4f26c27ec768",
   "metadata": {
    "tags": []
   },
   "outputs": [],
   "source": [
    "sdf.show(1)"
   ]
  },
  {
   "cell_type": "markdown",
   "id": "a6e1f425-215b-477e-8f28-8027523b61ba",
   "metadata": {},
   "source": [
    "Chek 2 cells before"
   ]
  },
  {
   "cell_type": "code",
   "execution_count": null,
   "id": "36cf3687-5ab4-4b86-8ae9-714bde99037e",
   "metadata": {
    "tags": []
   },
   "outputs": [],
   "source": [
    "# Cast event_name to lower so that its easier to use filters \n",
    "sdf = sdf.withColumn('event_name_lower', F.lower(F.col('event_name')))\n",
    "\n",
    "# Create a new column with '/' replaced by ' ' in 'event_name'\n",
    "sdf = sdf.withColumn('event_name_modified', F.regexp_replace('event_name_lower', '/', ' '))\n",
    "\n",
    "sdf.limit(5).toPandas()\n",
    "\n"
   ]
  },
  {
   "cell_type": "code",
   "execution_count": 31,
   "id": "ddbb50d7-f6aa-4900-b0ae-02be1ec21ba8",
   "metadata": {
    "tags": []
   },
   "outputs": [
    {
     "name": "stdout",
     "output_type": "stream",
     "text": [
      "root\n",
      " |-- event_datetime: timestamp (nullable = true)\n",
      " |-- event_json: string (nullable = true)\n",
      " |-- event_name: string (nullable = true)\n",
      " |-- event_receive_datetime: string (nullable = true)\n",
      " |-- event_receive_timestamp: string (nullable = true)\n",
      " |-- event_timestamp: string (nullable = true)\n",
      " |-- session_id: string (nullable = true)\n",
      " |-- installation_id: string (nullable = true)\n",
      " |-- appmetrica_device_id: string (nullable = true)\n",
      " |-- city: string (nullable = true)\n",
      " |-- connection_type: string (nullable = true)\n",
      " |-- country_iso_code: string (nullable = true)\n",
      " |-- device_ipv6: string (nullable = true)\n",
      " |-- device_locale: string (nullable = true)\n",
      " |-- device_manufacturer: string (nullable = true)\n",
      " |-- device_model: string (nullable = true)\n",
      " |-- device_type: string (nullable = true)\n",
      " |-- google_aid: string (nullable = true)\n",
      " |-- ios_ifa: string (nullable = true)\n",
      " |-- ios_ifv: string (nullable = true)\n",
      " |-- mcc: string (nullable = true)\n",
      " |-- mnc: string (nullable = true)\n",
      " |-- operator_name: string (nullable = true)\n",
      " |-- original_device_model: string (nullable = true)\n",
      " |-- os_name: string (nullable = true)\n",
      " |-- os_version: string (nullable = true)\n",
      " |-- profile_id: string (nullable = true)\n",
      " |-- windows_aid: string (nullable = true)\n",
      " |-- app_build_number: string (nullable = true)\n",
      " |-- app_package_name: string (nullable = true)\n",
      " |-- app_version_name: string (nullable = true)\n",
      " |-- application_id: string (nullable = true)\n",
      " |-- event_name_lower: string (nullable = true)\n",
      " |-- event_name_modified: string (nullable = true)\n",
      "\n"
     ]
    }
   ],
   "source": [
    "sdf.printSchema()"
   ]
  },
  {
   "cell_type": "code",
   "execution_count": null,
   "id": "4b052438-521c-4728-b09e-428ade265b46",
   "metadata": {
    "tags": []
   },
   "outputs": [],
   "source": []
  },
  {
   "cell_type": "code",
   "execution_count": null,
   "id": "0e1aaf00-1994-4ab2-bd5c-3e79e4c4ff7d",
   "metadata": {
    "tags": []
   },
   "outputs": [],
   "source": [
    "# Cast 'event_datetime' to a timestamp type\n",
    "sdf = sdf.withColumn('event_datetime', F.to_timestamp(F.col('event_datetime')))\n",
    "\n",
    "# Filter for users who were active in March 2023\n",
    "users_in_march_df = sdf.filter(F.month('event_datetime') == 3) \\\n",
    "                                    .filter(F.year('event_datetime') == 2024)\n",
    "\n",
    "\n",
    "users_in_march_df.limit(5).toPandas()\n"
   ]
  },
  {
   "cell_type": "code",
   "execution_count": null,
   "id": "01453fc4-6f16-4d60-9ff6-51c4e549a404",
   "metadata": {
    "tags": []
   },
   "outputs": [],
   "source": [
    "# Cast 'event_datetime' to a timestamp type\n",
    "sdf = sdf.withColumn('event_datetime', F.to_timestamp(F.col('event_datetime')))\n",
    "\n",
    "# Filter for users who were active in march 2024\n",
    "#sdf = sdf.filter(F.month('event_datetime') == 3) \\\n",
    "#                                    .filter(F.year('event_datetime') == 2024)\n",
    "\n",
    "\n",
    "sdf.limit(2).toPandas()\n"
   ]
  },
  {
   "cell_type": "code",
   "execution_count": null,
   "id": "c7293b7b-e462-423f-8ea2-b468a11d7da4",
   "metadata": {
    "tags": []
   },
   "outputs": [],
   "source": [
    "# Count of users who paid and did not pay in March\n",
    "# Keywords that indicate a payment\n",
    "payment_keywords = [\"завершили оплату\", \"завешили оплату\", \"платёж принят\"]\n",
    "\n",
    "# Filter users based on payment keywords\n",
    "users_paid_march = users_in_march_df.filter(\n",
    "    F.col('event_name_modified').contains(payment_keywords[0]) | \n",
    "    F.col('event_name_modified').contains(payment_keywords[1]) |\n",
    "    F.col('event_name_modified').contains(payment_keywords[2])\n",
    ")\n",
    "\n",
    "users_paid_march.limit(5).toPandas()\n"
   ]
  },
  {
   "cell_type": "code",
   "execution_count": 64,
   "id": "65faac7f-0173-44d5-9c89-1b013727fa2a",
   "metadata": {
    "tags": []
   },
   "outputs": [
    {
     "name": "stdout",
     "output_type": "stream",
     "text": [
      "Самая ранняя дата: 2024-05-01 00:00:00\n",
      "Самая поздняя дата: 2024-05-31 23:59:59\n"
     ]
    }
   ],
   "source": [
    "# Находим самую раннюю дату\n",
    "earliest_date = sdf.agg(F.min(\"event_datetime\")).first()[0]\n",
    "\n",
    "# Находим самую позднюю дату\n",
    "latest_date = sdf.agg(F.max(\"event_datetime\")).first()[0]\n",
    "\n",
    "print(f\"Самая ранняя дата: {earliest_date}\")\n",
    "print(f\"Самая поздняя дата: {latest_date}\")\n"
   ]
  },
  {
   "cell_type": "code",
   "execution_count": null,
   "id": "0005d13d-a60a-4b01-a219-a07531907307",
   "metadata": {
    "tags": []
   },
   "outputs": [],
   "source": [
    "# Count of users who paid and did not pay in March\n",
    "# Keywords that indicate a payment\n",
    "payment_keywords = [\"завершили оплату\", \"платёж принят\"]\n",
    "\n",
    "# Filter users based on payment keywords\n",
    "users_paid_totall = sdf.filter(\n",
    "    F.col('event_name_modified').contains(payment_keywords[0]) | \n",
    "    F.col('event_name_modified').contains(payment_keywords[1]) \n",
    ")\n",
    "\n",
    "users_paid_totall.limit(5).toPandas()\n"
   ]
  },
  {
   "cell_type": "code",
   "execution_count": null,
   "id": "549b7146-92bd-4cd9-b118-a564dcd90451",
   "metadata": {
    "tags": []
   },
   "outputs": [],
   "source": []
  },
  {
   "cell_type": "code",
   "execution_count": null,
   "id": "2bacfba4-91c6-44af-b1f5-6573081f867e",
   "metadata": {
    "tags": []
   },
   "outputs": [],
   "source": [
    "import matplotlib.pyplot as plt\n",
    "\n",
    "# Предположим, у нас есть столбец 'value' в нашем датафрейме sdf\n",
    "histogram_data = sdf.select('profile_id').toPandas()\n",
    "\n",
    "# Создаем гистограмму\n",
    "plt.hist(histogram_data['profile_id'], bins=20)\n",
    "plt.title('Histogram of profile_id')\n",
    "plt.xlabel('profile_id')\n",
    "plt.ylabel('Frequency')\n",
    "plt.show()\n"
   ]
  },
  {
   "cell_type": "code",
   "execution_count": null,
   "id": "52cf54f9-5e9f-42af-b320-552fff8255cf",
   "metadata": {
    "tags": []
   },
   "outputs": [],
   "source": [
    "# Count of users who paid and did not pay in March\n",
    "payment_keywords = [\"завершили оплату\", \"платёж принят\"]\n",
    "\n",
    "# Фильтрация пользователей на основе ключевых слов оплаты\n",
    "users_paid_total = sdf.filter(\n",
    "    F.col('event_name').like('%{}%'.format(payment_keywords[0])) |\n",
    "    F.col('event_name').like('%{}%'.format(payment_keywords[1]))\n",
    ")\n",
    "\n",
    "# Подсчет количества оплат для каждого пользователя\n",
    "payment_counts = users_paid_total.groupBy('profile_id').count()"
   ]
  },
  {
   "cell_type": "code",
   "execution_count": 66,
   "id": "6057dda7-09cb-4e14-b59b-7cd833047cd7",
   "metadata": {
    "tags": []
   },
   "outputs": [],
   "source": [
    "null_counts = sdf.agg(*[F.count(F.when(F.col(c).isNull(), 1)).alias(c) for c in sdf.columns])\n"
   ]
  },
  {
   "cell_type": "code",
   "execution_count": 67,
   "id": "4aad3c61-5ceb-4ce5-9889-0428d9b34958",
   "metadata": {
    "tags": []
   },
   "outputs": [
    {
     "data": {
      "text/html": [
       "<div>\n",
       "<style scoped>\n",
       "    .dataframe tbody tr th:only-of-type {\n",
       "        vertical-align: middle;\n",
       "    }\n",
       "\n",
       "    .dataframe tbody tr th {\n",
       "        vertical-align: top;\n",
       "    }\n",
       "\n",
       "    .dataframe thead th {\n",
       "        text-align: right;\n",
       "    }\n",
       "</style>\n",
       "<table border=\"1\" class=\"dataframe\">\n",
       "  <thead>\n",
       "    <tr style=\"text-align: right;\">\n",
       "      <th></th>\n",
       "      <th>0</th>\n",
       "    </tr>\n",
       "  </thead>\n",
       "  <tbody>\n",
       "    <tr>\n",
       "      <th>event_datetime</th>\n",
       "      <td>0</td>\n",
       "    </tr>\n",
       "    <tr>\n",
       "      <th>event_json</th>\n",
       "      <td>28973847</td>\n",
       "    </tr>\n",
       "    <tr>\n",
       "      <th>event_name</th>\n",
       "      <td>0</td>\n",
       "    </tr>\n",
       "    <tr>\n",
       "      <th>event_receive_datetime</th>\n",
       "      <td>0</td>\n",
       "    </tr>\n",
       "    <tr>\n",
       "      <th>event_receive_timestamp</th>\n",
       "      <td>0</td>\n",
       "    </tr>\n",
       "    <tr>\n",
       "      <th>event_timestamp</th>\n",
       "      <td>0</td>\n",
       "    </tr>\n",
       "    <tr>\n",
       "      <th>session_id</th>\n",
       "      <td>0</td>\n",
       "    </tr>\n",
       "    <tr>\n",
       "      <th>installation_id</th>\n",
       "      <td>0</td>\n",
       "    </tr>\n",
       "    <tr>\n",
       "      <th>appmetrica_device_id</th>\n",
       "      <td>0</td>\n",
       "    </tr>\n",
       "    <tr>\n",
       "      <th>city</th>\n",
       "      <td>29627161</td>\n",
       "    </tr>\n",
       "    <tr>\n",
       "      <th>connection_type</th>\n",
       "      <td>0</td>\n",
       "    </tr>\n",
       "    <tr>\n",
       "      <th>country_iso_code</th>\n",
       "      <td>77161</td>\n",
       "    </tr>\n",
       "    <tr>\n",
       "      <th>device_ipv6</th>\n",
       "      <td>0</td>\n",
       "    </tr>\n",
       "    <tr>\n",
       "      <th>device_locale</th>\n",
       "      <td>0</td>\n",
       "    </tr>\n",
       "    <tr>\n",
       "      <th>device_manufacturer</th>\n",
       "      <td>0</td>\n",
       "    </tr>\n",
       "    <tr>\n",
       "      <th>device_model</th>\n",
       "      <td>0</td>\n",
       "    </tr>\n",
       "    <tr>\n",
       "      <th>device_type</th>\n",
       "      <td>0</td>\n",
       "    </tr>\n",
       "    <tr>\n",
       "      <th>google_aid</th>\n",
       "      <td>24242446</td>\n",
       "    </tr>\n",
       "    <tr>\n",
       "      <th>ios_ifa</th>\n",
       "      <td>40099720</td>\n",
       "    </tr>\n",
       "    <tr>\n",
       "      <th>ios_ifv</th>\n",
       "      <td>27130471</td>\n",
       "    </tr>\n",
       "    <tr>\n",
       "      <th>mcc</th>\n",
       "      <td>0</td>\n",
       "    </tr>\n",
       "    <tr>\n",
       "      <th>mnc</th>\n",
       "      <td>0</td>\n",
       "    </tr>\n",
       "    <tr>\n",
       "      <th>operator_name</th>\n",
       "      <td>19463120</td>\n",
       "    </tr>\n",
       "    <tr>\n",
       "      <th>original_device_model</th>\n",
       "      <td>0</td>\n",
       "    </tr>\n",
       "    <tr>\n",
       "      <th>os_name</th>\n",
       "      <td>0</td>\n",
       "    </tr>\n",
       "    <tr>\n",
       "      <th>os_version</th>\n",
       "      <td>0</td>\n",
       "    </tr>\n",
       "    <tr>\n",
       "      <th>profile_id</th>\n",
       "      <td>0</td>\n",
       "    </tr>\n",
       "    <tr>\n",
       "      <th>windows_aid</th>\n",
       "      <td>46286936</td>\n",
       "    </tr>\n",
       "    <tr>\n",
       "      <th>app_build_number</th>\n",
       "      <td>0</td>\n",
       "    </tr>\n",
       "    <tr>\n",
       "      <th>app_package_name</th>\n",
       "      <td>0</td>\n",
       "    </tr>\n",
       "    <tr>\n",
       "      <th>app_version_name</th>\n",
       "      <td>0</td>\n",
       "    </tr>\n",
       "    <tr>\n",
       "      <th>application_id</th>\n",
       "      <td>0</td>\n",
       "    </tr>\n",
       "    <tr>\n",
       "      <th>event_name_lower</th>\n",
       "      <td>0</td>\n",
       "    </tr>\n",
       "    <tr>\n",
       "      <th>event_name_modified</th>\n",
       "      <td>0</td>\n",
       "    </tr>\n",
       "  </tbody>\n",
       "</table>\n",
       "</div>"
      ],
      "text/plain": [
       "                                0\n",
       "event_datetime                  0\n",
       "event_json               28973847\n",
       "event_name                      0\n",
       "event_receive_datetime          0\n",
       "event_receive_timestamp         0\n",
       "event_timestamp                 0\n",
       "session_id                      0\n",
       "installation_id                 0\n",
       "appmetrica_device_id            0\n",
       "city                     29627161\n",
       "connection_type                 0\n",
       "country_iso_code            77161\n",
       "device_ipv6                     0\n",
       "device_locale                   0\n",
       "device_manufacturer             0\n",
       "device_model                    0\n",
       "device_type                     0\n",
       "google_aid               24242446\n",
       "ios_ifa                  40099720\n",
       "ios_ifv                  27130471\n",
       "mcc                             0\n",
       "mnc                             0\n",
       "operator_name            19463120\n",
       "original_device_model           0\n",
       "os_name                         0\n",
       "os_version                      0\n",
       "profile_id                      0\n",
       "windows_aid              46286936\n",
       "app_build_number                0\n",
       "app_package_name                0\n",
       "app_version_name                0\n",
       "application_id                  0\n",
       "event_name_lower                0\n",
       "event_name_modified             0"
      ]
     },
     "execution_count": 67,
     "metadata": {},
     "output_type": "execute_result"
    }
   ],
   "source": [
    "null_counts.toPandas().T\n"
   ]
  },
  {
   "cell_type": "code",
   "execution_count": null,
   "id": "6b96eb80-733a-47d2-a6af-75b77b3525ce",
   "metadata": {
    "tags": []
   },
   "outputs": [],
   "source": [
    "import pyspark.sql.functions as F\n",
    "\n",
    "# Подсчитываем количество нулевых значений в каждом столбце\n",
    "null_counts = sdf.agg(*[F.count(F.when(F.col(c).isNull(), 1)).alias(c) for c in sdf.columns])\n",
    "plt.figure(figsize=(90, 60))\n",
    "\n",
    "# Визуализируем количество нулевых значений с помощью столбчатой диаграммы\n",
    "null_counts.toPandas().plot.bar()\n",
    "plt.xlabel(\"Column\")\n",
    "plt.ylabel(\"Number of null values\")\n",
    "plt.title(\"Number of Null Values per Column\")\n",
    "plt.xticks(rotation=90)\n",
    "plt.show()"
   ]
  },
  {
   "cell_type": "code",
   "execution_count": null,
   "id": "b5593e4b-c6fb-4dc9-a9ff-0ae4ba4e70de",
   "metadata": {
    "tags": []
   },
   "outputs": [],
   "source": [
    "# Увеличиваем размер холста графика\n",
    "plt.figure(figsize=(15, 100))\n",
    "\n",
    "# Визуализируем количество нулевых значений с помощью столбчатой диаграммы\n",
    "null_counts.toPandas().plot.bar()\n",
    "plt.xlabel(\"Column\")\n",
    "plt.ylabel(\"Number of null values\")\n",
    "plt.title(\"Number of Null Values per Column\")\n",
    "plt.xticks(rotation=90)\n",
    "\n",
    "# Располагаем легенду вне области графика\n",
    "plt.legend(loc='center left', bbox_to_anchor=(1, 0.5))\n",
    "plt.show()\n"
   ]
  },
  {
   "cell_type": "code",
   "execution_count": null,
   "id": "69640a6a-aa71-41a7-a01c-762285a45de4",
   "metadata": {},
   "outputs": [],
   "source": []
  },
  {
   "cell_type": "code",
   "execution_count": null,
   "id": "0d26b767-a17f-4265-a48d-9aa6e92f8b90",
   "metadata": {},
   "outputs": [],
   "source": []
  },
  {
   "cell_type": "code",
   "execution_count": null,
   "id": "10bf9a27-3233-4935-9976-31ebd26109d7",
   "metadata": {},
   "outputs": [],
   "source": []
  },
  {
   "cell_type": "code",
   "execution_count": null,
   "id": "f22e0725-6bc3-4615-8c10-eb11f1d1a178",
   "metadata": {},
   "outputs": [],
   "source": []
  },
  {
   "cell_type": "code",
   "execution_count": 68,
   "id": "7e4c645f-e2b8-4b24-b5c5-ad4fd5504234",
   "metadata": {
    "tags": []
   },
   "outputs": [
    {
     "name": "stdout",
     "output_type": "stream",
     "text": [
      "Number of users who paid in all data based on keywords: 28451\n"
     ]
    }
   ],
   "source": [
    "# Count of users who match the payment keywords\n",
    "paid_count_total = users_paid_totall.select('profile_id').distinct().count()\n",
    "\n",
    "print(f\"Number of users who paid in all data based on keywords: {paid_count_total}\")"
   ]
  },
  {
   "cell_type": "code",
   "execution_count": null,
   "id": "9e63b8d7-911a-4bf9-b87a-7cdafad453b9",
   "metadata": {
    "tags": []
   },
   "outputs": [],
   "source": []
  },
  {
   "cell_type": "code",
   "execution_count": null,
   "id": "a7231be6-347f-4cf8-9675-49d0794eaa41",
   "metadata": {
    "tags": []
   },
   "outputs": [],
   "source": []
  },
  {
   "cell_type": "code",
   "execution_count": null,
   "id": "3c0ebe6f-3dac-4b50-a792-4d94643af3b8",
   "metadata": {
    "tags": []
   },
   "outputs": [],
   "source": []
  },
  {
   "cell_type": "code",
   "execution_count": null,
   "id": "cf92cd1b-6002-479c-9b08-f237f2dc5310",
   "metadata": {
    "tags": []
   },
   "outputs": [],
   "source": []
  },
  {
   "cell_type": "code",
   "execution_count": null,
   "id": "d9cde984-e996-4c13-8c62-78d157e03d9f",
   "metadata": {
    "tags": []
   },
   "outputs": [],
   "source": [
    "import seaborn as sns\n",
    "\n",
    "# Группировка данных по столбцу 'profile_id' и подсчет количества действий\n",
    "action_distribution = sdf.groupBy('profile_id').agg(F.count('event_name').alias('action_count'))\n",
    "\n",
    "# Преобразование результатов в Pandas DataFrame для удобства работы с данными\n",
    "action_distribution_df = action_distribution.toPandas()\n",
    "\n",
    "# Построение диаграммы размаха распределения количества действий по пользователям\n",
    "plt.figure(figsize=(10, 6))\n",
    "sns.boxplot(y=action_distribution_df['action_count'], color='skyblue')\n",
    "plt.ylabel('Количество действий')\n",
    "plt.title('Распределение количества действий по пользователям')\n",
    "plt.grid(True)\n",
    "plt.show()\n"
   ]
  },
  {
   "cell_type": "code",
   "execution_count": null,
   "id": "f59440d2-014f-4a8e-8e6e-4cc71556c2c4",
   "metadata": {
    "tags": []
   },
   "outputs": [],
   "source": [
    "import seaborn as sns\n",
    "import matplotlib.pyplot as plt\n",
    "\n",
    "# Группировка данных по столбцу 'profile_id' и подсчет количества действий\n",
    "action_distribution = sdf.groupby('profile_id').count().reset_index()\n",
    "action_distribution.columns = ['profile_id', 'action_count']\n",
    "\n",
    "# Создание гистограммы\n",
    "ax = sns.barplot(x=\"profile_id\", y=\"action_count\", data=action_distribution)\n",
    "plt.title('Распределение количества действий по пользователям')\n",
    "plt.show()\n"
   ]
  },
  {
   "cell_type": "code",
   "execution_count": null,
   "id": "ed2b14f7-2e40-4ea4-8096-f72344322cdf",
   "metadata": {
    "tags": []
   },
   "outputs": [],
   "source": [
    "# Удалить строки со значениями None\n",
    "sdf = sdf[sdf['profile_id'].notnull()]\n",
    "\n",
    "# Создать гистограмму\n",
    "histogram_data = sdf.select('profile_id').toPandas()\n",
    "plt.hist(histogram_data['profile_id'], bins=20)\n",
    "plt.title('Histogram of profile_id')\n",
    "plt.xlabel('profile_id')\n",
    "plt.ylabel('Frequency')\n",
    "plt.show()\n"
   ]
  },
  {
   "cell_type": "code",
   "execution_count": null,
   "id": "1ffeeabf-8eda-41f3-b3a0-6b72a7cbee17",
   "metadata": {},
   "outputs": [],
   "source": []
  },
  {
   "cell_type": "code",
   "execution_count": null,
   "id": "b8ff84d8-bab9-443c-89b1-49f13526cb11",
   "metadata": {},
   "outputs": [],
   "source": []
  },
  {
   "cell_type": "code",
   "execution_count": null,
   "id": "2500b9e2-ada2-40c7-9b6e-59c2d9567189",
   "metadata": {},
   "outputs": [],
   "source": []
  },
  {
   "cell_type": "code",
   "execution_count": null,
   "id": "46db3549-c2e4-434d-b197-817d566a1c94",
   "metadata": {},
   "outputs": [],
   "source": []
  },
  {
   "cell_type": "code",
   "execution_count": null,
   "id": "a5a8ae07-db6c-48e0-910f-9913bcd9042f",
   "metadata": {},
   "outputs": [],
   "source": []
  },
  {
   "cell_type": "code",
   "execution_count": null,
   "id": "2987963a-9987-41ce-aaa4-e3b6df211018",
   "metadata": {
    "tags": []
   },
   "outputs": [],
   "source": [
    "# compare to total number of users in March \n",
    "\n",
    "total_users_march = users_in_march_df.select('profile_id').distinct().count()\n",
    "\n",
    "print(f\"Number of users who used the app in March: {total_users_march}\")"
   ]
  },
  {
   "cell_type": "code",
   "execution_count": null,
   "id": "ab5ead03-5007-47ef-ab8b-3342992520fd",
   "metadata": {
    "tags": []
   },
   "outputs": [],
   "source": [
    "# how many payments did users make in March (i.e. what was the average number of payments a user made) \n",
    "payment_keywords = [\"завершили оплату\", \"платёж принят\"]\n",
    "\n",
    "# Create a column that flags when a payment action was made \n",
    "# (this will help identify number of payment actions, as well as users who made a payment) \n",
    "\n",
    "users_in_march_df = users_in_march_df.withColumn(\n",
    "    'made_payment',\n",
    "    F.when(\n",
    "        F.col('event_name_modified').contains(payment_keywords[0]) |\n",
    "        F.col('event_name_modified').contains(payment_keywords[1]), \n",
    "        1\n",
    "    ).otherwise(0)\n",
    ")\n",
    "\n",
    "users_in_march_df.limit(5).toPandas()\n"
   ]
  },
  {
   "cell_type": "code",
   "execution_count": 40,
   "id": "0417baa2-fe55-4d85-824c-2d4b53db565e",
   "metadata": {
    "tags": []
   },
   "outputs": [
    {
     "name": "stdout",
     "output_type": "stream",
     "text": [
      "Number of users who paid in March 2024 based on keywords: 25815\n"
     ]
    }
   ],
   "source": [
    "# Count of users who match the payment keywords\n",
    "paid_count_march = users_paid_march.select('profile_id').distinct().count()\n",
    "\n",
    "print(f\"Number of users who paid in March 2024 based on keywords: {paid_count_march}\")"
   ]
  },
  {
   "cell_type": "code",
   "execution_count": 33,
   "id": "b3387f6f-c525-4c08-8277-d0ebc02781f7",
   "metadata": {
    "tags": []
   },
   "outputs": [
    {
     "name": "stdout",
     "output_type": "stream",
     "text": [
      "Number of users who used the app in March: 613281\n"
     ]
    }
   ],
   "source": [
    "# compare to total number of users in 2023 \n",
    "\n",
    "total_users_march = users_in_march_df.select('profile_id').distinct().count()\n",
    "\n",
    "print(f\"Number of users who used the app in March: {total_users_march}\")"
   ]
  },
  {
   "cell_type": "code",
   "execution_count": null,
   "id": "63e55ef3-55a0-4b75-8d98-8288542301c7",
   "metadata": {
    "tags": []
   },
   "outputs": [],
   "source": [
    "# how many payments did users make in March (i.e. what was the average number of payments a user made) \n",
    "\n",
    "# Create a column that flags when a payment action was made \n",
    "# (this will help identify number of payment actions, as well as users who made a payment) \n",
    "\n",
    "users_in_march_df = users_in_march_df.withColumn(\n",
    "    'made_payment',\n",
    "    F.when(\n",
    "        F.col('event_name_modified').contains(payment_keywords[0]) |\n",
    "        F.col('event_name_modified').contains(payment_keywords[1]),\n",
    "        1\n",
    "    ).otherwise(0)\n",
    ")\n",
    "\n",
    "users_in_march_df.limit(5).toPandas()\n"
   ]
  },
  {
   "cell_type": "code",
   "execution_count": null,
   "id": "6734df8f-7ab7-4fba-9a73-f7e09995f671",
   "metadata": {
    "tags": []
   },
   "outputs": [],
   "source": [
    "users_in_march_df.limit(1).toPandas()\n"
   ]
  },
  {
   "cell_type": "code",
   "execution_count": null,
   "id": "4c51f4d1-c62d-4f76-9ae6-3294f2fffabc",
   "metadata": {
    "tags": []
   },
   "outputs": [],
   "source": [
    "#Создаем DataFrame с информацией о пользователях, совершивших хотя бы одну оплату\n",
    "users_with_payments = users_in_march_df.filter(users_in_march_df.made_payment == 1).select(\"profile_id\").distinct()\n",
    "# Присоединяем информацию о пользователях, совершивших хотя бы одну оплату, к исходному DataFrame\n",
    "sdf_with_user_payments = users_in_march_df.join(users_with_payments, \"profile_id\", \"left\")\n",
    "# Добавляем новый столбец, который помечает строки, где пользователи когда-либо совершили хотя бы одну оплату\n",
    "sdf_with_user_payments = sdf_with_user_payments.withColumn(\"user_made_payment\",\n",
    "                     F.when(sdf_with_user_payments.profile_id.isNotNull(), 1).otherwise(0))\n",
    "# Отображаем данные, помеченные соответствующим образом\n",
    "sdf_with_user_payments.limit(5).toPandas()\n"
   ]
  },
  {
   "cell_type": "code",
   "execution_count": 42,
   "id": "8822fbf3-1933-431a-836b-bbf7e963e55f",
   "metadata": {
    "tags": []
   },
   "outputs": [],
   "source": [
    "sdf_with_user_payments = sdf_with_user_payments.filter(sdf_with_user_payments.made_payment == 1)"
   ]
  },
  {
   "cell_type": "code",
   "execution_count": null,
   "id": "445eb960-869c-469c-815f-592fa7398129",
   "metadata": {
    "tags": []
   },
   "outputs": [],
   "source": [
    "sdf_with_user_payments.limit(1).toPandas()\n"
   ]
  },
  {
   "cell_type": "code",
   "execution_count": null,
   "id": "31118df9-13c9-41d5-8eb4-c551aa687914",
   "metadata": {},
   "outputs": [],
   "source": []
  },
  {
   "cell_type": "code",
   "execution_count": null,
   "id": "f457f823-d276-49e5-a987-2c2f62c61809",
   "metadata": {},
   "outputs": [],
   "source": []
  },
  {
   "cell_type": "code",
   "execution_count": null,
   "id": "05978444-bb02-49bd-a7a2-3157db464fd3",
   "metadata": {},
   "outputs": [],
   "source": []
  },
  {
   "cell_type": "code",
   "execution_count": 43,
   "id": "0b9ff2fd-574a-4876-981f-35050596a5e4",
   "metadata": {
    "tags": []
   },
   "outputs": [
    {
     "name": "stdout",
     "output_type": "stream",
     "text": [
      "Average number of payments per user in March: 0.07366129663448996\n"
     ]
    }
   ],
   "source": [
    "# Sum the made_payment flags for each user\n",
    "payments_per_user_df = users_in_march_df.groupBy('profile_id').agg(F.sum('made_payment').alias('total_payments'))\n",
    "\n",
    "# Calculate the average number of payments across all users\n",
    "avg_payments_per_user = payments_per_user_df.agg(F.avg('total_payments')).collect()[0][0]\n",
    "\n",
    "print(f\"Average number of payments per user in March: {avg_payments_per_user}\")"
   ]
  },
  {
   "cell_type": "code",
   "execution_count": 44,
   "id": "edf7aa05-cfbc-4b26-9ddd-cbe0a666dca1",
   "metadata": {
    "tags": []
   },
   "outputs": [
    {
     "name": "stdout",
     "output_type": "stream",
     "text": [
      "Average number of payments per paying user in March: 1.7499515785396087\n"
     ]
    }
   ],
   "source": [
    "# Filter out users who did not make any payments\n",
    "paying_users_df = payments_per_user_df.filter(payments_per_user_df['total_payments'] > 0)\n",
    "\n",
    "# Calculate the average number of payments for users who made at least one payment\n",
    "avg_payments_per_paying_user = paying_users_df.agg(F.avg('total_payments')).collect()[0][0]\n",
    "\n",
    "print(f\"Average number of payments per paying user in March: {avg_payments_per_paying_user}\")"
   ]
  },
  {
   "cell_type": "code",
   "execution_count": 45,
   "id": "13d8c76f",
   "metadata": {
    "tags": []
   },
   "outputs": [
    {
     "data": {
      "image/png": "[encoded data removed]",
      "text/plain": [
       "<Figure size 432x432 with 1 Axes>"
      ]
     },
     "metadata": {},
     "output_type": "display_data"
    }
   ],
   "source": [
    "# Calculating the proportion\n",
    "paid_proportion = (paid_count_march / total_users_march) * 100\n",
    "non_paid_proportion = 100 - paid_proportion\n",
    "\n",
    "\n",
    "# Data to plot\n",
    "labels = 'Paid Users', 'Non-Paid Users'\n",
    "sizes = [paid_proportion, non_paid_proportion]\n",
    "colors = ['lightblue', 'lightgreen']\n",
    "explode = (0.1, 0)  # explode the 1st slice for emphasis\n",
    "\n",
    "# Plotting the pie chart\n",
    "plt.figure(figsize=(6, 6))\n",
    "plt.pie(sizes, explode=explode, labels=labels, colors=colors, autopct='%1.1f%%', shadow=True, startangle=140)\n",
    "\n",
    "plt.title('Proportion of Users Who Made Payments in March 2023')\n",
    "plt.axis('equal')  # Equal aspect ratio ensures the pie chart is circular\n",
    "plt.show()"
   ]
  },
  {
   "cell_type": "code",
   "execution_count": 46,
   "id": "48d7edea-11ef-4a51-bf31-f766e9553e57",
   "metadata": {
    "tags": []
   },
   "outputs": [
    {
     "data": {
      "image/png": "[encoded data removed]",
      "text/plain": [
       "<Figure size 864x432 with 1 Axes>"
      ]
     },
     "metadata": {
      "needs_background": "light"
     },
     "output_type": "display_data"
    }
   ],
   "source": [
    "# Extract day from event_datetime\n",
    "users_in_march_df = users_in_march_df.withColumn('day_of_month', F.dayofmonth('event_datetime'))\n",
    "\n",
    "# Filter for payment actions and count per day\n",
    "daily_payments_df = users_in_march_df.filter(F.col('made_payment') == 1).groupBy('day_of_month').count()\n",
    "\n",
    "# Collect the result for visualization\n",
    "daily_payments_pd = daily_payments_df.toPandas()\n",
    "daily_payments_pd.sort_values('day_of_month', inplace=True)\n",
    "\n",
    "# Plotting\n",
    "plt.figure(figsize=(12, 6))\n",
    "plt.bar(daily_payments_pd['day_of_month'], daily_payments_pd['count'], color='skyblue')\n",
    "plt.xlabel('Day of the Month')\n",
    "plt.ylabel('Number of Payments')\n",
    "plt.title('Total Number of Payments for Each Day of March')\n",
    "plt.xticks(range(1, 32))  # Assuming up to 31 days in a month\n",
    "plt.grid(axis='y')\n",
    "plt.show()"
   ]
  },
  {
   "cell_type": "code",
   "execution_count": null,
   "id": "c495bc39-e861-4d0a-b44f-231781173248",
   "metadata": {},
   "outputs": [],
   "source": []
  },
  {
   "cell_type": "code",
   "execution_count": 47,
   "id": "d4025f8f",
   "metadata": {
    "tags": []
   },
   "outputs": [
    {
     "data": {
      "image/png": "[encoded data removed]",
      "text/plain": [
       "<Figure size 864x432 with 1 Axes>"
      ]
     },
     "metadata": {
      "needs_background": "light"
     },
     "output_type": "display_data"
    }
   ],
   "source": [
    "import calendar\n",
    "import matplotlib.pyplot as plt\n",
    "\n",
    "# Create a Pandas dataframe to use with matplotlib\n",
    "daily_payments_pd = daily_payments_df.toPandas()\n",
    "daily_payments_pd.sort_values('day_of_month', inplace=True)\n",
    "\n",
    "# Get the list of weekend days in March 2024\n",
    "weekend_days = [2, 3, 9, 10, 16, 17, 23, 24, 30, 31]\n",
    "\n",
    "# Plotting with weekends highlighted\n",
    "plt.figure(figsize=(12, 6))\n",
    "bar_colors = ['skyblue' if day not in weekend_days else 'lightcoral' for day in daily_payments_pd['day_of_month']]\n",
    "plt.bar(daily_payments_pd['day_of_month'], daily_payments_pd['count'], color=bar_colors)\n",
    "plt.xlabel('Day of the Month')\n",
    "plt.ylabel('Number of Payments')\n",
    "plt.title('Total Number of Payments for Each Day of March')\n",
    "plt.xticks(range(1, 32))  # Assuming up to 31 days in a month\n",
    "plt.grid(axis='y')\n",
    "plt.show()"
   ]
  },
  {
   "cell_type": "code",
   "execution_count": null,
   "id": "1559d119",
   "metadata": {},
   "outputs": [],
   "source": []
  },
  {
   "cell_type": "code",
   "execution_count": 48,
   "id": "881e6a6c-3bb2-43dd-83f1-7ea771c32c52",
   "metadata": {
    "tags": []
   },
   "outputs": [
    {
     "data": {
      "image/png": "[encoded data removed]",
      "text/plain": [
       "<Figure size 864x432 with 1 Axes>"
      ]
     },
     "metadata": {
      "needs_background": "light"
     },
     "output_type": "display_data"
    }
   ],
   "source": [
    "# Group by date and count the occurrences\n",
    "events_count_by_day_df = users_in_march_df.groupBy('day_of_month').count()\n",
    "\n",
    "# Collect the data for visualization\n",
    "events_count_by_day_pd = events_count_by_day_df.toPandas()\n",
    "events_count_by_day_pd.sort_values('day_of_month', inplace=True)\n",
    "\n",
    "plt.figure(figsize=(12, 6))\n",
    "plt.plot(events_count_by_day_pd['day_of_month'], events_count_by_day_pd['count'], marker='o', linestyle='-')\n",
    "plt.xlabel('Date')\n",
    "plt.ylabel('Count of Events')\n",
    "plt.title('Event Counts by Date')\n",
    "plt.xticks(rotation=45)\n",
    "plt.grid(True)\n",
    "plt.show()"
   ]
  },
  {
   "cell_type": "code",
   "execution_count": 49,
   "id": "b7476b05-b0bd-44c9-9e99-22a9feb67cb0",
   "metadata": {
    "tags": []
   },
   "outputs": [
    {
     "data": {
      "image/png": "[encoded data removed]",
      "text/plain": [
       "<Figure size 864x432 with 1 Axes>"
      ]
     },
     "metadata": {
      "needs_background": "light"
     },
     "output_type": "display_data"
    }
   ],
   "source": [
    "import calendar\n",
    "import matplotlib.pyplot as plt\n",
    "\n",
    "# Group by date and count the occurrences\n",
    "events_count_by_day_df = users_in_march_df.groupBy('day_of_month').count()\n",
    "\n",
    "# Collect the data for visualization\n",
    "events_count_by_day_pd = events_count_by_day_df.toPandas()\n",
    "events_count_by_day_pd.sort_values('day_of_month', inplace=True)\n",
    "\n",
    "# Define weekend days in March 2023\n",
    "weekend_days = [2, 3, 9, 10, 16, 17, 23, 24, 30, 31]\n",
    "\n",
    "\n",
    "\n",
    "# Plotting with weekends highlighted\n",
    "plt.figure(figsize=(12, 6))\n",
    "for index, row in events_count_by_day_pd.iterrows():\n",
    "    if row['day_of_month'] in weekend_days:\n",
    "        plt.plot(row['day_of_month'], row['count'], marker='s', markersize=8, color='lightcoral', linestyle='-', linewidth=2)\n",
    "    else:\n",
    "        plt.plot(row['day_of_month'], row['count'], marker='o', markersize=8, color='skyblue', linestyle='-', linewidth=2)\n",
    "\n",
    "plt.ticklabel_format(style='plain')\n",
    "plt.xlabel('Date')\n",
    "plt.ylabel('Count of Events')\n",
    "plt.title('Event Counts by Date')\n",
    "plt.xticks(range(1, 32))  # Assuming up to 31 days in a month\n",
    "plt.grid(True)\n",
    "plt.show()"
   ]
  },
  {
   "cell_type": "code",
   "execution_count": null,
   "id": "f2019ee0",
   "metadata": {},
   "outputs": [],
   "source": []
  },
  {
   "cell_type": "code",
   "execution_count": 50,
   "id": "cf57b002-20cb-4803-85a1-ba3f583257a2",
   "metadata": {
    "tags": []
   },
   "outputs": [],
   "source": [
    "import matplotlib.pyplot as plt\n",
    "import seaborn as sns\n",
    "\n",
    "# Set a font that supports more characters\n",
    "plt.rcParams['font.family'] = 'Arial Unicode MS'\n",
    "\n",
    "\n",
    "def analyze_and_visualize_category(df, category):\n",
    "    # Group by the category and count distinct users\n",
    "    category_count = df.groupBy(category).agg(F.countDistinct('profile_id').alias('user_count'))\n",
    "\n",
    "    # Collect the data for local analysis\n",
    "    category_count_pd = category_count.toPandas()\n",
    "\n",
    "    # Sorting for better visualization\n",
    "    category_count_pd.sort_values('user_count', ascending=False, inplace=True)\n",
    "\n",
    "    # Visualization\n",
    "    plt.figure(figsize=(12, 6))\n",
    "    sns.barplot(x='user_count', y=category, data=category_count_pd, palette='viridis')\n",
    "    plt.title(f'User Count by {category}')\n",
    "    plt.xlabel('Number of Users')\n",
    "    plt.ylabel(category.capitalize())\n",
    "    plt.show()\n",
    "\n",
    "# List of columns to analyze\n",
    "columns_to_analyze = ['device_model', 'device_manufacturer', 'connection_type', 'country_iso_code', 'device_type', 'operator_name', 'os_name']\n",
    "\n"
   ]
  },
  {
   "cell_type": "code",
   "execution_count": 51,
   "id": "e4b80630-1e15-438c-bfb6-9071b2aa746f",
   "metadata": {
    "tags": []
   },
   "outputs": [
    {
     "name": "stderr",
     "output_type": "stream",
     "text": [
      "findfont: Font family ['Arial Unicode MS'] not found. Falling back to DejaVu Sans.\n",
      "findfont: Font family ['Arial Unicode MS'] not found. Falling back to DejaVu Sans.\n"
     ]
    },
    {
     "data": {
      "image/png": "[encoded data removed]",
      "text/plain": [
       "<Figure size 864x432 with 1 Axes>"
      ]
     },
     "metadata": {
      "needs_background": "light"
     },
     "output_type": "display_data"
    }
   ],
   "source": [
    "# Using the function for each category\n",
    "analyze_and_visualize_category(users_in_march_df, 'os_name')"
   ]
  },
  {
   "cell_type": "code",
   "execution_count": 52,
   "id": "850e0939-face-4731-b79c-055aae95db21",
   "metadata": {
    "tags": []
   },
   "outputs": [
    {
     "data": {
      "image/png": "[encoded data removed]",
      "text/plain": [
       "<Figure size 864x432 with 1 Axes>"
      ]
     },
     "metadata": {
      "needs_background": "light"
     },
     "output_type": "display_data"
    }
   ],
   "source": [
    "# Using the function for each category\n",
    "analyze_and_visualize_category(users_in_march_df, 'device_type')"
   ]
  },
  {
   "cell_type": "code",
   "execution_count": null,
   "id": "3e388103-013b-4441-8b38-87ae2ec27b25",
   "metadata": {},
   "outputs": [],
   "source": []
  },
  {
   "cell_type": "code",
   "execution_count": null,
   "id": "f7de50fc-6211-4ef0-93d8-b5e30e4059a0",
   "metadata": {},
   "outputs": [],
   "source": []
  },
  {
   "cell_type": "markdown",
   "id": "6f5ea41c-d720-4827-9501-6bc6db93e075",
   "metadata": {},
   "source": [
    "### 3.2. Events"
   ]
  },
  {
   "cell_type": "code",
   "execution_count": 53,
   "id": "b081dedd-81b1-4e58-98c7-388c3ddd2432",
   "metadata": {
    "tags": []
   },
   "outputs": [
    {
     "data": {
      "text/plain": [
       "6367112"
      ]
     },
     "execution_count": 53,
     "metadata": {},
     "output_type": "execute_result"
    }
   ],
   "source": [
    "sdf.select('event_json').distinct().count()\n"
   ]
  },
  {
   "cell_type": "code",
   "execution_count": null,
   "id": "ab98d520-d7e0-4d93-ba37-628f7f7be091",
   "metadata": {
    "tags": []
   },
   "outputs": [],
   "source": [
    "events = sdf.select('event_json').distinct().collect()\n",
    "events[:10]"
   ]
  },
  {
   "cell_type": "code",
   "execution_count": 55,
   "id": "e8cc2d6a-d8a5-422c-8a1e-625f6549bc69",
   "metadata": {
    "tags": []
   },
   "outputs": [
    {
     "data": {
      "text/plain": [
       "718"
      ]
     },
     "execution_count": 55,
     "metadata": {},
     "output_type": "execute_result"
    }
   ],
   "source": [
    "event_names = sdf.select('event_name').distinct().collect()\n",
    "len(event_names)"
   ]
  },
  {
   "cell_type": "code",
   "execution_count": null,
   "id": "91ce77d3",
   "metadata": {},
   "outputs": [],
   "source": []
  },
  {
   "cell_type": "code",
   "execution_count": 26,
   "id": "78e3255f",
   "metadata": {
    "tags": []
   },
   "outputs": [
    {
     "name": "stdout",
     "output_type": "stream",
     "text": [
      "root\n",
      " |-- event_datetime: timestamp (nullable = true)\n",
      " |-- event_json: string (nullable = true)\n",
      " |-- event_name: string (nullable = true)\n",
      " |-- event_receive_datetime: string (nullable = true)\n",
      " |-- event_receive_timestamp: string (nullable = true)\n",
      " |-- event_timestamp: string (nullable = true)\n",
      " |-- session_id: string (nullable = true)\n",
      " |-- installation_id: string (nullable = true)\n",
      " |-- appmetrica_device_id: string (nullable = true)\n",
      " |-- city: string (nullable = true)\n",
      " |-- connection_type: string (nullable = true)\n",
      " |-- country_iso_code: string (nullable = true)\n",
      " |-- device_ipv6: string (nullable = true)\n",
      " |-- device_locale: string (nullable = true)\n",
      " |-- device_manufacturer: string (nullable = true)\n",
      " |-- device_model: string (nullable = true)\n",
      " |-- device_type: string (nullable = true)\n",
      " |-- google_aid: string (nullable = true)\n",
      " |-- ios_ifa: string (nullable = true)\n",
      " |-- ios_ifv: string (nullable = true)\n",
      " |-- mcc: string (nullable = true)\n",
      " |-- mnc: string (nullable = true)\n",
      " |-- operator_name: string (nullable = true)\n",
      " |-- original_device_model: string (nullable = true)\n",
      " |-- os_name: string (nullable = true)\n",
      " |-- os_version: string (nullable = true)\n",
      " |-- profile_id: string (nullable = true)\n",
      " |-- windows_aid: string (nullable = true)\n",
      " |-- app_build_number: string (nullable = true)\n",
      " |-- app_package_name: string (nullable = true)\n",
      " |-- app_version_name: string (nullable = true)\n",
      " |-- application_id: string (nullable = true)\n",
      " |-- event_name_lower: string (nullable = true)\n",
      " |-- event_name_modified: string (nullable = true)\n",
      "\n"
     ]
    }
   ],
   "source": [
    "sdf.printSchema()"
   ]
  },
  {
   "cell_type": "code",
   "execution_count": null,
   "id": "c5f00c9f",
   "metadata": {},
   "outputs": [],
   "source": []
  },
  {
   "cell_type": "code",
   "execution_count": null,
   "id": "d9e186c9",
   "metadata": {},
   "outputs": [],
   "source": []
  },
  {
   "cell_type": "code",
   "execution_count": null,
   "id": "c9d87239",
   "metadata": {},
   "outputs": [],
   "source": []
  },
  {
   "cell_type": "code",
   "execution_count": null,
   "id": "6df1cd6e",
   "metadata": {},
   "outputs": [],
   "source": []
  },
  {
   "cell_type": "code",
   "execution_count": null,
   "id": "3520a557",
   "metadata": {},
   "outputs": [],
   "source": []
  },
  {
   "cell_type": "code",
   "execution_count": null,
   "id": "c25ff552",
   "metadata": {},
   "outputs": [],
   "source": []
  },
  {
   "cell_type": "code",
   "execution_count": null,
   "id": "c4330f59",
   "metadata": {},
   "outputs": [],
   "source": []
  },
  {
   "cell_type": "code",
   "execution_count": null,
   "id": "4046fc64",
   "metadata": {},
   "outputs": [],
   "source": []
  },
  {
   "cell_type": "code",
   "execution_count": null,
   "id": "9cbbdfbb",
   "metadata": {},
   "outputs": [],
   "source": []
  },
  {
   "cell_type": "code",
   "execution_count": null,
   "id": "f178dcf3",
   "metadata": {},
   "outputs": [],
   "source": []
  },
  {
   "cell_type": "code",
   "execution_count": null,
   "id": "cfced265",
   "metadata": {},
   "outputs": [],
   "source": []
  }
 ],
 "metadata": {
  "kernelspec": {
   "display_name": "Python 3 (ipykernel)",
   "language": "python",
   "name": "python3"
  },
  "language_info": {
   "codemirror_mode": {
    "name": "ipython",
    "version": 3
   },
   "file_extension": ".py",
   "mimetype": "text/x-python",
   "name": "python",
   "nbconvert_exporter": "python",
   "pygments_lexer": "ipython3",
   "version": "3.9.7"
  },
  "widgets": {
   "application/vnd.jupyter.widget-state+json": {
    "state": {},
    "version_major": 2,
    "version_minor": 0
   }
  }
 },
 "nbformat": 4,
 "nbformat_minor": 5
}
