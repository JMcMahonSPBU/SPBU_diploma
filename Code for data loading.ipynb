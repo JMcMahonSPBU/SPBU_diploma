{
 "cells": [
  {
   "cell_type": "markdown",
   "id": "11f51326-5c7f-4eae-b40e-22a83b250ae7",
   "metadata": {},
   "source": [
    "# Demo API data load"
   ]
  },
  {
   "cell_type": "markdown",
   "id": "f8bf86a4-7f40-4673-a9d1-c3e4dc56ffa3",
   "metadata": {},
   "source": [
    "This code imports several Python libraries and also sets the maximum number of columns to display in a Pandas DataFrame to None, which allows all columns to be displayed without truncation."
   ]
  },
  {
   "cell_type": "code",
   "execution_count": null,
   "id": "261ffceb-a7b6-4729-9d97-9b6366fcc5df",
   "metadata": {},
   "outputs": [],
   "source": [
    "import os\n",
    "import json\n",
    "import requests\n",
    "import pandas as pd\n",
    "pd.set_option('display.max_columns', None)"
   ]
  },
  {
   "cell_type": "markdown",
   "id": "c7b9aee5-acf3-4e12-9732-15b702c974af",
   "metadata": {},
   "source": [
    "## 1. Authorization with token"
   ]
  },
  {
   "cell_type": "markdown",
   "id": "d5198018-1ebd-4e0b-a48a-5963e797edd9",
   "metadata": {},
   "source": [
    "In this section code  opens a JSON file and loads its contents into a Python dictionary.\n"
   ]
  },
  {
   "cell_type": "code",
   "execution_count": null,
   "id": "1b4ddb7a-ec6c-40fc-8c8f-23e5c00dbdc5",
   "metadata": {},
   "outputs": [],
   "source": [
    "def access_data(file_path):\n",
    "    with open(file_path) as file:\n",
    "        access_data = json.load(file)\n",
    "    return access_data\n",
    "\n",
    "creds = access_data(file_path='token.json')\n",
    "print(creds.keys())"
   ]
  },
  {
   "cell_type": "code",
   "execution_count": null,
   "id": "9eb2ee84-34e5-44bd-a771-9f5929a23a6e",
   "metadata": {},
   "outputs": [],
   "source": []
  },
  {
   "cell_type": "code",
   "execution_count": null,
   "id": "2e9b0b69-9c8f-49ce-93ee-3676608c633e",
   "metadata": {},
   "outputs": [],
   "source": [
    "header = {\n",
    "    'Authorization': f'OAuth {creds[\"oauth_token\"]}'\n",
    "}"
   ]
  },
  {
   "cell_type": "markdown",
   "id": "5fd06c9e-ad12-45c9-bc6d-f2dc77594304",
   "metadata": {},
   "source": [
    "## 2. Download loop"
   ]
  },
  {
   "cell_type": "markdown",
   "id": "1d9758ac-e9ea-4e33-990f-1cddf527c678",
   "metadata": {},
   "source": [
    "This section of the code sets up the necessary parameters and credentials for accessing the AppMetrica API and then iterates through a range of dates to download data into CSV files."
   ]
  },
  {
   "cell_type": "code",
   "execution_count": null,
   "id": "5a3ab7e0-d31f-4b04-aced-5302c516bf2e",
   "metadata": {},
   "outputs": [],
   "source": [
    "app_id = '****'\n",
    "api_point = 'events'\n",
    "fields = [\n",
    "    'event_datetime',\n",
    "    'event_json',\n",
    "    'event_name',\n",
    "    'event_receive_datetime',\n",
    "    'event_receive_timestamp',\n",
    "    'event_timestamp',\n",
    "    'session_id',\n",
    "    'installation_id',\n",
    "    'appmetrica_device_id',\n",
    "    'city',\n",
    "    'connection_type',\n",
    "    'country_iso_code',\n",
    "    'device_ipv6',\n",
    "    'device_locale',\n",
    "    'device_manufacturer',\n",
    "    'device_model',\n",
    "    'device_type',\n",
    "    'google_aid',\n",
    "    'ios_ifa',\n",
    "    'ios_ifv',\n",
    "    'mcc',\n",
    "    'mnc',\n",
    "    'operator_name',\n",
    "    'original_device_model',\n",
    "    'os_name',\n",
    "    'os_version',\n",
    "    'profile_id',\n",
    "    'windows_aid',\n",
    "    'app_build_number',\n",
    "    'app_package_name',\n",
    "    'app_version_name',\n",
    "    'application_id'\n",
    "]"
   ]
  },
  {
   "cell_type": "code",
   "execution_count": null,
   "id": "42a04fd2-62e4-41af-ac75-8ee369cc743d",
   "metadata": {},
   "outputs": [],
   "source": []
  },
  {
   "cell_type": "code",
   "execution_count": null,
   "id": "a1f53845-0b7a-4a0a-b4cb-f39e3404f6e0",
   "metadata": {},
   "outputs": [],
   "source": [
    "from datetime import date, timedelta\n",
    "import time\n",
    "\n",
    "def daterange(start_date, end_date):\n",
    "    for n in range(int((end_date - start_date).days)):\n",
    "        yield start_date + timedelta(n)\n",
    "\n",
    "start_date = date(2024, 5, 26)\n",
    "end_date = date(2024, 6, 2)"
   ]
  },
  {
   "cell_type": "code",
   "execution_count": null,
   "id": "1d59446d-7da8-4014-94a7-38559a9cd649",
   "metadata": {
    "tags": []
   },
   "outputs": [],
   "source": [
    "save_path = f'data/{api_point}'\n",
    "os.makedirs(save_path, exist_ok=True)\n",
    "DELAY = 102\n",
    "\n",
    "for day in daterange(start_date, end_date):\n",
    "    sday = day.strftime('%Y-%m-%d')\n",
    "    print('start loading day', sday, end=' ')\n",
    "    url = ''.join([\n",
    "        f'https://api.appmetrica.yandex.ru/logs/v1/export/events.csv?',\n",
    "        f'application_id={app_id}',\n",
    "        f'&date_since={sday}',\n",
    "        f'&date_until={sday}',\n",
    "        f'&fields={\",\".join(fields)}'\n",
    "    ])\n",
    "    status_code = None\n",
    "    while status_code != 200:\n",
    "        r = requests.get(url, headers=header)\n",
    "        status_code = r.status_code\n",
    "        if status_code != 200:\n",
    "            print('status code', status_code, 'waiting...', end=' ')\n",
    "            time.sleep(DELAY)\n",
    "    file_name = f'{save_path}/data_{sday}.csv'\n",
    "    with open(file_name, 'w', encoding='utf-8') as file:\n",
    "        file.write(r.text.encode('l1').decode())\n",
    "    print('data saved to file', file_name)"
   ]
  },
  {
   "cell_type": "markdown",
   "id": "fc8bb658-cc70-42fe-a442-5f99b66198b4",
   "metadata": {},
   "source": [
    "## 3. Test loaded data"
   ]
  },
  {
   "cell_type": "markdown",
   "id": "8bea3e50-bc37-4966-9711-719d24b2c231",
   "metadata": {},
   "source": [
    "In this section code identifies the directory where the downloaded CSV files are stored. Reads the data from the most recent CSV file into a Pandas DataFrame. Prints the shape of the DataFrame (number of rows and columns). Displays the first few rows of the DataFrame. And then prints information about the DataFrame, including data types and missing values."
   ]
  },
  {
   "cell_type": "code",
   "execution_count": null,
   "id": "bf29d40d-2a10-4e8b-8a7a-156f1e192fa1",
   "metadata": {},
   "outputs": [],
   "source": [
    "api_point = 'events'\n",
    "save_path = f'data/{api_point}'\n",
    "all_files = os.listdir(save_path)"
   ]
  },
  {
   "cell_type": "code",
   "execution_count": null,
   "id": "7e335f25-9e42-49c0-a899-3d6edf661cec",
   "metadata": {},
   "outputs": [],
   "source": [
    "df = pd.read_csv(f'{save_path}/{all_files[-1]}')\n",
    "print(df.shape)\n",
    "display(df.head())"
   ]
  },
  {
   "cell_type": "code",
   "execution_count": null,
   "id": "8cff390e-54e0-4ae4-866a-2193d3efa71b",
   "metadata": {},
   "outputs": [],
   "source": [
    "df.info()"
   ]
  },
  {
   "cell_type": "code",
   "execution_count": null,
   "id": "7e2fbcaa-d3ff-40c4-b706-65a49445c9a8",
   "metadata": {},
   "outputs": [],
   "source": []
  },
  {
   "cell_type": "code",
   "execution_count": null,
   "id": "1c716b2f-5344-4dac-9942-16d56dac3a8b",
   "metadata": {},
   "outputs": [],
   "source": []
  }
 ],
 "metadata": {
  "kernelspec": {
   "display_name": "Python 3 (ipykernel)",
   "language": "python",
   "name": "python3"
  },
  "language_info": {
   "codemirror_mode": {
    "name": "ipython",
    "version": 3
   },
   "file_extension": ".py",
   "mimetype": "text/x-python",
   "name": "python",
   "nbconvert_exporter": "python",
   "pygments_lexer": "ipython3",
   "version": "3.9.7"
  },
  "widgets": {
   "application/vnd.jupyter.widget-state+json": {
    "state": {},
    "version_major": 2,
    "version_minor": 0
   }
  }
 },
 "nbformat": 4,
 "nbformat_minor": 5
}
